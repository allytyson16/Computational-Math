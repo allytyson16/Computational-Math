{
 "cells": [
  {
   "cell_type": "code",
   "metadata": {
    "cell_id": "426982b3-00ab-4f52-bb31-2831e93407ae",
    "tags": [],
    "deepnote_to_be_reexecuted": false,
    "source_hash": "3d464e16",
    "execution_start": 1647361210941,
    "execution_millis": 526362975,
    "deepnote_cell_type": "code",
    "deepnote_cell_height": 117
   },
   "source": "a = 7 + 9j\n\n",
   "execution_count": 1,
   "outputs": []
  },
  {
   "cell_type": "code",
   "metadata": {
    "cell_id": "7f136585-79b9-4140-a14d-36ba6c7fbd6b",
    "tags": [],
    "deepnote_to_be_reexecuted": false,
    "source_hash": "2a65d2d6",
    "execution_start": 1647361210942,
    "execution_millis": 5,
    "deepnote_cell_type": "code",
    "deepnote_cell_height": 118.1875,
    "deepnote_output_heights": [
     21.1875
    ]
   },
   "source": "a.conjugate",
   "execution_count": 2,
   "outputs": [
    {
     "output_type": "execute_result",
     "execution_count": 2,
     "data": {
      "text/plain": "<function complex.conjugate>"
     },
     "metadata": {}
    }
   ]
  },
  {
   "cell_type": "code",
   "metadata": {
    "cell_id": "e7b77e8c-8026-4398-89cb-6c9326ddc1f0",
    "tags": [],
    "deepnote_to_be_reexecuted": false,
    "source_hash": "899b6bb5",
    "execution_start": 1647361210943,
    "execution_millis": 4,
    "deepnote_cell_type": "code",
    "deepnote_cell_height": 118.1875,
    "deepnote_output_heights": [
     21.1875
    ]
   },
   "source": "a.imag",
   "execution_count": 3,
   "outputs": [
    {
     "output_type": "execute_result",
     "execution_count": 3,
     "data": {
      "text/plain": "9.0"
     },
     "metadata": {}
    }
   ]
  },
  {
   "cell_type": "code",
   "metadata": {
    "cell_id": "2e871605-5f2f-4b3e-ad50-0b8e72912b36",
    "tags": [],
    "deepnote_to_be_reexecuted": false,
    "source_hash": "4804f623",
    "execution_start": 1647361210949,
    "execution_millis": 1,
    "deepnote_cell_type": "code",
    "deepnote_cell_height": 81
   },
   "source": "mystr = \"He is fine\"",
   "execution_count": 4,
   "outputs": []
  },
  {
   "cell_type": "code",
   "metadata": {
    "cell_id": "22118942-1c50-443c-ba84-19953b112a50",
    "tags": [],
    "deepnote_to_be_reexecuted": false,
    "source_hash": "3bd962a3",
    "execution_start": 1647361210950,
    "execution_millis": 0,
    "deepnote_cell_type": "code",
    "deepnote_cell_height": 81
   },
   "source": "mystr1 = 'He is fine'",
   "execution_count": 5,
   "outputs": []
  },
  {
   "cell_type": "code",
   "metadata": {
    "cell_id": "64c3be21-5a1f-4bb8-b439-a63bbf614f3b",
    "tags": [],
    "deepnote_to_be_reexecuted": false,
    "source_hash": "f1525669",
    "execution_start": 1647361210962,
    "execution_millis": 0,
    "deepnote_cell_type": "code",
    "deepnote_cell_height": 81
   },
   "source": "mystr2 = '''He is not fine'''",
   "execution_count": 6,
   "outputs": []
  },
  {
   "cell_type": "code",
   "metadata": {
    "cell_id": "0bd601d9-bc69-448b-837d-e324344be3bd",
    "tags": [],
    "deepnote_to_be_reexecuted": false,
    "source_hash": "6c66b9dc",
    "execution_start": 1647361210971,
    "execution_millis": 526362874,
    "deepnote_cell_type": "code",
    "deepnote_cell_height": 99
   },
   "source": "mystr3 = \"\"\"He is really good\"\"\"\n",
   "execution_count": 7,
   "outputs": []
  },
  {
   "cell_type": "code",
   "metadata": {
    "cell_id": "a6296a18-1114-40b4-beea-43f4eae15172",
    "tags": [],
    "deepnote_to_be_reexecuted": false,
    "source_hash": "cde68e97",
    "execution_start": 1647361210972,
    "execution_millis": 526362874,
    "deepnote_cell_type": "code",
    "deepnote_cell_height": 118.1875,
    "deepnote_output_heights": [
     21.1875
    ]
   },
   "source": "len(mystr)",
   "execution_count": 8,
   "outputs": [
    {
     "output_type": "execute_result",
     "execution_count": 8,
     "data": {
      "text/plain": "10"
     },
     "metadata": {}
    }
   ]
  },
  {
   "cell_type": "code",
   "metadata": {
    "cell_id": "40a0d1d5-9c38-4118-9181-0ad6abe01da3",
    "tags": [],
    "deepnote_to_be_reexecuted": false,
    "source_hash": "36e2919d",
    "execution_start": 1647361210991,
    "execution_millis": 526362834,
    "deepnote_cell_type": "code",
    "deepnote_cell_height": 118.1875,
    "deepnote_output_heights": [
     21.1875
    ]
   },
   "source": "len(mystr1)",
   "execution_count": 9,
   "outputs": [
    {
     "output_type": "execute_result",
     "execution_count": 9,
     "data": {
      "text/plain": "10"
     },
     "metadata": {}
    }
   ]
  },
  {
   "cell_type": "code",
   "metadata": {
    "cell_id": "505a4aed-7f1d-46b5-af64-98d37a7cf4b0",
    "tags": [],
    "deepnote_to_be_reexecuted": false,
    "source_hash": "7292ea20",
    "execution_start": 1647361211000,
    "execution_millis": 6,
    "deepnote_cell_type": "code",
    "deepnote_cell_height": 118.1875,
    "deepnote_output_heights": [
     21.1875
    ]
   },
   "source": "len(mystr2)",
   "execution_count": 10,
   "outputs": [
    {
     "output_type": "execute_result",
     "execution_count": 10,
     "data": {
      "text/plain": "14"
     },
     "metadata": {}
    }
   ]
  },
  {
   "cell_type": "code",
   "metadata": {
    "cell_id": "ac26529c-05ba-40b0-a7dd-86fafabbb694",
    "tags": [],
    "deepnote_to_be_reexecuted": false,
    "source_hash": "34f843db",
    "execution_start": 1647361211001,
    "execution_millis": 526362752,
    "deepnote_cell_type": "code",
    "deepnote_cell_height": 99
   },
   "source": "mystr4 = \"\"\"My name is\nAdelaide\"\"\"",
   "execution_count": 11,
   "outputs": []
  },
  {
   "cell_type": "code",
   "metadata": {
    "cell_id": "a296dafd-cd49-4695-9786-aee816594a64",
    "tags": [],
    "deepnote_to_be_reexecuted": false,
    "source_hash": "18b09da5",
    "execution_start": 1647361211012,
    "execution_millis": 8,
    "deepnote_cell_type": "code",
    "deepnote_cell_height": 81
   },
   "source": "mystr5 = \"My name is /n Piipi\"",
   "execution_count": 12,
   "outputs": []
  },
  {
   "cell_type": "code",
   "metadata": {
    "cell_id": "be1c832a-20e4-4ad3-b1c6-3b263b218511",
    "tags": [],
    "deepnote_to_be_reexecuted": false,
    "source_hash": "a18a514a",
    "execution_start": 1647361211017,
    "execution_millis": 526362720,
    "deepnote_cell_type": "code",
    "deepnote_cell_height": 118.1875,
    "deepnote_output_heights": [
     21.1875
    ]
   },
   "source": "mystr5[3:6]",
   "execution_count": 13,
   "outputs": [
    {
     "output_type": "execute_result",
     "execution_count": 13,
     "data": {
      "text/plain": "'nam'"
     },
     "metadata": {}
    }
   ]
  },
  {
   "cell_type": "code",
   "metadata": {
    "cell_id": "e6d2637b-2c8a-4281-8929-322828237176",
    "tags": [],
    "deepnote_to_be_reexecuted": false,
    "source_hash": "1f9d6380",
    "execution_start": 1647361211018,
    "execution_millis": 9,
    "deepnote_cell_type": "code",
    "deepnote_cell_height": 118.1875,
    "deepnote_output_heights": [
     21.1875
    ]
   },
   "source": "mystr5[3:6:1]",
   "execution_count": 14,
   "outputs": [
    {
     "output_type": "execute_result",
     "execution_count": 14,
     "data": {
      "text/plain": "'nam'"
     },
     "metadata": {}
    }
   ]
  },
  {
   "cell_type": "code",
   "metadata": {
    "cell_id": "47b70e1c-e80e-4cfa-ba40-8af936eae3cf",
    "tags": [],
    "deepnote_to_be_reexecuted": false,
    "source_hash": "83afccce",
    "execution_start": 1647361211025,
    "execution_millis": 16,
    "deepnote_cell_type": "code",
    "deepnote_cell_height": 118.1875,
    "deepnote_output_heights": [
     21.1875
    ]
   },
   "source": "mystr5[0:4:-1]",
   "execution_count": 15,
   "outputs": [
    {
     "output_type": "execute_result",
     "execution_count": 15,
     "data": {
      "text/plain": "''"
     },
     "metadata": {}
    }
   ]
  },
  {
   "cell_type": "code",
   "metadata": {
    "cell_id": "068e31b0-2d7d-49b3-ac7e-2c177c4ad5b7",
    "tags": [],
    "deepnote_to_be_reexecuted": false,
    "source_hash": "b5302448",
    "execution_start": 1647361211039,
    "execution_millis": 10,
    "deepnote_cell_type": "code",
    "deepnote_cell_height": 118.1875,
    "deepnote_output_heights": [
     21.1875
    ]
   },
   "source": "mystr5[4:0:-1]",
   "execution_count": 16,
   "outputs": [
    {
     "output_type": "execute_result",
     "execution_count": 16,
     "data": {
      "text/plain": "'an y'"
     },
     "metadata": {}
    }
   ]
  },
  {
   "cell_type": "code",
   "metadata": {
    "cell_id": "983a9c25-4d5e-4324-9f6f-f8ef4e119b2d",
    "tags": [],
    "deepnote_to_be_reexecuted": false,
    "source_hash": "b8a6f17f",
    "execution_start": 1647361211047,
    "execution_millis": 22,
    "deepnote_cell_type": "code",
    "deepnote_cell_height": 118.1875,
    "deepnote_output_heights": [
     21.1875
    ]
   },
   "source": "mystr5[5:-1]",
   "execution_count": 17,
   "outputs": [
    {
     "output_type": "execute_result",
     "execution_count": 17,
     "data": {
      "text/plain": "'me is /n Piip'"
     },
     "metadata": {}
    }
   ]
  },
  {
   "cell_type": "code",
   "metadata": {
    "cell_id": "246f6366-3620-4106-925c-965ac7960359",
    "tags": [],
    "deepnote_to_be_reexecuted": false,
    "source_hash": "8f0ec1df",
    "execution_start": 1647361211062,
    "execution_millis": 9,
    "deepnote_cell_type": "code",
    "deepnote_cell_height": 118.1875,
    "deepnote_output_heights": [
     21.1875
    ]
   },
   "source": "mystr5[3:]",
   "execution_count": 18,
   "outputs": [
    {
     "output_type": "execute_result",
     "execution_count": 18,
     "data": {
      "text/plain": "'name is /n Piipi'"
     },
     "metadata": {}
    }
   ]
  },
  {
   "cell_type": "code",
   "metadata": {
    "cell_id": "1c811bb0-ba49-4307-98a4-6e4c20ee365c",
    "tags": [],
    "deepnote_to_be_reexecuted": false,
    "source_hash": "fc14510b",
    "execution_start": 1647361211065,
    "execution_millis": 31,
    "deepnote_cell_type": "code",
    "deepnote_cell_height": 118.1875,
    "deepnote_output_heights": [
     21.1875
    ]
   },
   "source": "mystr5[3:len(mystr5)]",
   "execution_count": 19,
   "outputs": [
    {
     "output_type": "execute_result",
     "execution_count": 19,
     "data": {
      "text/plain": "'name is /n Piipi'"
     },
     "metadata": {}
    }
   ]
  },
  {
   "cell_type": "code",
   "metadata": {
    "cell_id": "695de36e-5a97-4b2f-ab65-6cc268204edd",
    "tags": [],
    "deepnote_to_be_reexecuted": false,
    "source_hash": "5e7fd3b1",
    "execution_start": 1647361211073,
    "execution_millis": 0,
    "deepnote_cell_type": "code",
    "deepnote_cell_height": 118.1875,
    "deepnote_output_heights": [
     21.1875
    ]
   },
   "source": "mystr5[::-1]",
   "execution_count": 20,
   "outputs": [
    {
     "output_type": "execute_result",
     "execution_count": 20,
     "data": {
      "text/plain": "'ipiiP n/ si eman yM'"
     },
     "metadata": {}
    }
   ]
  },
  {
   "cell_type": "code",
   "metadata": {
    "cell_id": "77a10aef-3648-4233-bba5-406261ba96a2",
    "tags": [],
    "deepnote_to_be_reexecuted": false,
    "source_hash": "b2a7d250",
    "execution_start": 1647361211090,
    "execution_millis": 13,
    "deepnote_cell_type": "code",
    "deepnote_cell_height": 118.1875,
    "deepnote_output_heights": [
     21.1875
    ]
   },
   "source": "mystr5.upper()",
   "execution_count": 21,
   "outputs": [
    {
     "output_type": "execute_result",
     "execution_count": 21,
     "data": {
      "text/plain": "'MY NAME IS /N PIIPI'"
     },
     "metadata": {}
    }
   ]
  },
  {
   "cell_type": "code",
   "metadata": {
    "cell_id": "4304ccea-d91b-459b-a621-8710cdb41737",
    "tags": [],
    "deepnote_to_be_reexecuted": false,
    "source_hash": "53f4b295",
    "execution_start": 1647361211102,
    "execution_millis": 17,
    "deepnote_cell_type": "code",
    "deepnote_cell_height": 118.1875,
    "deepnote_output_heights": [
     21.1875
    ]
   },
   "source": "mystr3.upper()",
   "execution_count": 22,
   "outputs": [
    {
     "output_type": "execute_result",
     "execution_count": 22,
     "data": {
      "text/plain": "'HE IS REALLY GOOD'"
     },
     "metadata": {}
    }
   ]
  },
  {
   "cell_type": "code",
   "metadata": {
    "cell_id": "2eac9ffc-eab2-4093-9b7c-14cdcd64980f",
    "tags": [],
    "deepnote_to_be_reexecuted": false,
    "source_hash": "add4ed82",
    "execution_start": 1647361211102,
    "execution_millis": 1,
    "deepnote_cell_type": "code",
    "deepnote_cell_height": 81
   },
   "source": "mystr3 = mystr3.upper()",
   "execution_count": 23,
   "outputs": []
  },
  {
   "cell_type": "code",
   "metadata": {
    "cell_id": "cb52513a-4ac0-4169-8a13-cf4d8b151a72",
    "tags": [],
    "deepnote_to_be_reexecuted": false,
    "source_hash": "75cb8372",
    "execution_start": 1647361211109,
    "execution_millis": 11,
    "deepnote_cell_type": "code",
    "deepnote_cell_height": 118.1875,
    "deepnote_output_heights": [
     21.1875
    ]
   },
   "source": "mystr3.split('g')",
   "execution_count": 24,
   "outputs": [
    {
     "output_type": "execute_result",
     "execution_count": 24,
     "data": {
      "text/plain": "['HE IS REALLY GOOD']"
     },
     "metadata": {}
    }
   ]
  },
  {
   "cell_type": "code",
   "metadata": {
    "cell_id": "bca55c3e-51ad-4185-acad-395d76e744b8",
    "tags": [],
    "deepnote_to_be_reexecuted": false,
    "source_hash": "4b94ed5a",
    "execution_start": 1647361211114,
    "execution_millis": 0,
    "deepnote_cell_type": "code",
    "deepnote_cell_height": 118.1875,
    "deepnote_output_heights": [
     21.1875
    ]
   },
   "source": "mystr3.split('OO')",
   "execution_count": 25,
   "outputs": [
    {
     "output_type": "execute_result",
     "execution_count": 25,
     "data": {
      "text/plain": "['HE IS REALLY G', 'D']"
     },
     "metadata": {}
    }
   ]
  },
  {
   "cell_type": "code",
   "metadata": {
    "cell_id": "f1a27d28-b277-4983-9483-a133b35362d6",
    "tags": [],
    "deepnote_to_be_reexecuted": false,
    "source_hash": "97467158",
    "execution_start": 1647361211129,
    "execution_millis": 3,
    "deepnote_cell_type": "code",
    "deepnote_cell_height": 118.1875,
    "deepnote_output_heights": [
     21.1875
    ]
   },
   "source": "mystr3.replace('GOOD', 'WELL')",
   "execution_count": 26,
   "outputs": [
    {
     "output_type": "execute_result",
     "execution_count": 26,
     "data": {
      "text/plain": "'HE IS REALLY WELL'"
     },
     "metadata": {}
    }
   ]
  },
  {
   "cell_type": "code",
   "metadata": {
    "cell_id": "97a27e4e-1276-4f7c-a9f1-b7f503441403",
    "tags": [],
    "deepnote_to_be_reexecuted": false,
    "source_hash": "32210c2",
    "execution_start": 1647361211133,
    "execution_millis": 42,
    "deepnote_cell_type": "code",
    "deepnote_cell_height": 118.1875,
    "deepnote_output_heights": [
     21.1875
    ]
   },
   "source": "mystr3.find(\"GOOD\")",
   "execution_count": 27,
   "outputs": [
    {
     "output_type": "execute_result",
     "execution_count": 27,
     "data": {
      "text/plain": "13"
     },
     "metadata": {}
    }
   ]
  },
  {
   "cell_type": "code",
   "metadata": {
    "cell_id": "bef56bde-220b-4230-930b-8d0949a265e5",
    "tags": [],
    "deepnote_to_be_reexecuted": false,
    "source_hash": "1d830ae1",
    "execution_start": 1647361211171,
    "execution_millis": 95,
    "deepnote_cell_type": "code",
    "deepnote_cell_height": 144.1875
   },
   "source": "mystr3.find()",
   "execution_count": 28,
   "outputs": [
    {
     "output_type": "error",
     "ename": "TypeError",
     "evalue": "find() takes at least 1 argument (0 given)",
     "traceback": [
      "\u001b[0;31m---------------------------------------------------------------------------\u001b[0m",
      "\u001b[0;31mTypeError\u001b[0m                                 Traceback (most recent call last)",
      "\u001b[0;32m<ipython-input-28-edcc92a49355>\u001b[0m in \u001b[0;36m<module>\u001b[0;34m\u001b[0m\n\u001b[0;32m----> 1\u001b[0;31m \u001b[0mmystr3\u001b[0m\u001b[0;34m.\u001b[0m\u001b[0mfind\u001b[0m\u001b[0;34m(\u001b[0m\u001b[0;34m)\u001b[0m\u001b[0;34m\u001b[0m\u001b[0;34m\u001b[0m\u001b[0m\n\u001b[0m",
      "\u001b[0;31mTypeError\u001b[0m: find() takes at least 1 argument (0 given)"
     ]
    }
   ]
  },
  {
   "cell_type": "code",
   "metadata": {
    "cell_id": "d34480d9-f25a-4d4e-a26f-973a9e8d03f7",
    "tags": [],
    "deepnote_to_be_reexecuted": true,
    "source_hash": "946c4e40",
    "execution_start": 1646757720891,
    "execution_millis": 3,
    "deepnote_cell_type": "code",
    "deepnote_cell_height": 81
   },
   "source": "mystr8 = 'this is a test, this is a test, this is a test'",
   "execution_count": null,
   "outputs": []
  },
  {
   "cell_type": "code",
   "metadata": {
    "cell_id": "7b07a8d7-9c92-404c-8770-91a275b9e4a2",
    "tags": [],
    "deepnote_to_be_reexecuted": true,
    "source_hash": "2314def4",
    "execution_start": 1646757777792,
    "execution_millis": 4,
    "deepnote_cell_type": "code",
    "deepnote_cell_height": 81
   },
   "source": "mystr6 = 'this is a test, ' 'this is a test, ' 'this is a test'",
   "execution_count": null,
   "outputs": []
  },
  {
   "cell_type": "code",
   "metadata": {
    "cell_id": "2b4013b1-73a2-4a02-afcc-dbc58b04ec3d",
    "tags": [],
    "deepnote_to_be_reexecuted": true,
    "source_hash": "6ddddd0a",
    "execution_start": 1646758104197,
    "execution_millis": 4,
    "deepnote_cell_type": "code",
    "deepnote_cell_height": 81
   },
   "source": "a = [2,3,3,4,5,5]",
   "execution_count": null,
   "outputs": []
  },
  {
   "cell_type": "code",
   "metadata": {
    "cell_id": "865f451c-7f28-4384-8cbe-e2866b4205a2",
    "tags": [],
    "deepnote_to_be_reexecuted": true,
    "source_hash": "1478ef",
    "execution_start": 1646758112761,
    "execution_millis": 3,
    "deepnote_cell_type": "code",
    "deepnote_cell_height": 118.1875,
    "deepnote_output_heights": [
     21.1875
    ]
   },
   "source": "type(a)",
   "execution_count": null,
   "outputs": [
    {
     "output_type": "execute_result",
     "execution_count": 55,
     "data": {
      "text/plain": "list"
     },
     "metadata": {}
    }
   ]
  },
  {
   "cell_type": "code",
   "metadata": {
    "cell_id": "c6f8ee58-26a1-4b41-953e-9957d7b0bd71",
    "tags": [],
    "deepnote_to_be_reexecuted": true,
    "source_hash": "cf7cb6bf",
    "execution_start": 1646758142235,
    "execution_millis": 1,
    "deepnote_cell_type": "code",
    "deepnote_cell_height": 81
   },
   "source": "b = {2,3,3,4,5,5}",
   "execution_count": null,
   "outputs": []
  },
  {
   "cell_type": "code",
   "metadata": {
    "cell_id": "13adf7ac-190b-49a5-8f3b-f453293ff666",
    "tags": [],
    "deepnote_to_be_reexecuted": true,
    "source_hash": "5a767791",
    "execution_start": 1646758157771,
    "execution_millis": 5,
    "deepnote_cell_type": "code",
    "deepnote_cell_height": 118.1875,
    "deepnote_output_heights": [
     21.1875
    ]
   },
   "source": "type(b)",
   "execution_count": null,
   "outputs": [
    {
     "output_type": "execute_result",
     "execution_count": 59,
     "data": {
      "text/plain": "set"
     },
     "metadata": {}
    }
   ]
  },
  {
   "cell_type": "code",
   "metadata": {
    "cell_id": "d52dfe86-9190-44ad-89ea-5a234ca7144e",
    "tags": [],
    "deepnote_to_be_reexecuted": true,
    "source_hash": "5c2b451a",
    "execution_start": 1646758315818,
    "execution_millis": 3,
    "deepnote_cell_type": "code",
    "deepnote_cell_height": 81
   },
   "source": "c = [1, (3+1j)] ,'test' , 4.5, True , [1,2,3]",
   "execution_count": null,
   "outputs": []
  },
  {
   "cell_type": "code",
   "metadata": {
    "cell_id": "1a169867-16f5-4e6a-a089-f45c5a31381e",
    "tags": [],
    "deepnote_to_be_reexecuted": true,
    "source_hash": "69df5abd",
    "execution_start": 1646758335404,
    "execution_millis": 296,
    "deepnote_cell_type": "code",
    "deepnote_cell_height": 118.1875,
    "deepnote_output_heights": [
     21.1875
    ]
   },
   "source": "c[-1]",
   "execution_count": null,
   "outputs": [
    {
     "output_type": "execute_result",
     "execution_count": 62,
     "data": {
      "text/plain": "[1, 2, 3]"
     },
     "metadata": {}
    }
   ]
  },
  {
   "cell_type": "code",
   "metadata": {
    "cell_id": "9ee9ac88-541f-4a95-9e7c-0a741e20b60e",
    "tags": [],
    "deepnote_to_be_reexecuted": true,
    "source_hash": "87004af8",
    "execution_start": 1646758350568,
    "execution_millis": 126,
    "deepnote_cell_type": "code",
    "deepnote_cell_height": 118.1875,
    "deepnote_output_heights": [
     21.1875
    ]
   },
   "source": "c[-1][-1]",
   "execution_count": null,
   "outputs": [
    {
     "output_type": "execute_result",
     "execution_count": 63,
     "data": {
      "text/plain": "3"
     },
     "metadata": {}
    }
   ]
  },
  {
   "cell_type": "code",
   "metadata": {
    "cell_id": "04b43841-507b-415e-95b4-0597457eec44",
    "tags": [],
    "deepnote_to_be_reexecuted": true,
    "source_hash": "73b28667",
    "execution_start": 1646758555519,
    "execution_millis": 3,
    "deepnote_cell_type": "code",
    "deepnote_cell_height": 118.1875,
    "deepnote_output_heights": [
     21.1875
    ]
   },
   "source": "c[2]",
   "execution_count": null,
   "outputs": [
    {
     "output_type": "execute_result",
     "execution_count": 72,
     "data": {
      "text/plain": "4.5"
     },
     "metadata": {}
    }
   ]
  },
  {
   "cell_type": "code",
   "metadata": {
    "cell_id": "f7d92fba-fbe2-4de0-9677-bb99abcd969c",
    "tags": [],
    "deepnote_to_be_reexecuted": true,
    "source_hash": "ec5bdd24",
    "execution_start": 1646758583552,
    "execution_millis": 6,
    "deepnote_cell_type": "code",
    "deepnote_cell_height": 118.1875,
    "deepnote_output_heights": [
     21.1875
    ]
   },
   "source": "c[1][2]",
   "execution_count": null,
   "outputs": [
    {
     "output_type": "execute_result",
     "execution_count": 73,
     "data": {
      "text/plain": "'s'"
     },
     "metadata": {}
    }
   ]
  },
  {
   "cell_type": "code",
   "metadata": {
    "cell_id": "1ff51927-0e37-45a6-996c-b2fd8e1a0b0e",
    "tags": [],
    "deepnote_to_be_reexecuted": true,
    "source_hash": "e6c7b025",
    "execution_start": 1646758603682,
    "execution_millis": 2,
    "deepnote_cell_type": "code",
    "deepnote_cell_height": 118.1875,
    "deepnote_output_heights": [
     21.1875
    ]
   },
   "source": "c[3]",
   "execution_count": null,
   "outputs": [
    {
     "output_type": "execute_result",
     "execution_count": 74,
     "data": {
      "text/plain": "True"
     },
     "metadata": {}
    }
   ]
  },
  {
   "cell_type": "code",
   "metadata": {
    "cell_id": "6648ecbb-8e86-45d7-b098-a988f7bb1d57",
    "tags": [],
    "deepnote_to_be_reexecuted": true,
    "source_hash": "957caa7e",
    "execution_start": 1646758612707,
    "execution_millis": 7,
    "deepnote_cell_type": "code",
    "deepnote_cell_height": 118.1875,
    "deepnote_output_heights": [
     21.1875
    ]
   },
   "source": "c",
   "execution_count": null,
   "outputs": [
    {
     "output_type": "execute_result",
     "execution_count": 75,
     "data": {
      "text/plain": "([1, (3+1j)], 'test', 4.5, True, [1, 2, 3])"
     },
     "metadata": {}
    }
   ]
  },
  {
   "cell_type": "code",
   "metadata": {
    "cell_id": "638c8611-d66a-4605-9789-a516a915436c",
    "tags": [],
    "deepnote_to_be_reexecuted": true,
    "source_hash": "5051c371",
    "execution_start": 1646758771251,
    "execution_millis": 10,
    "deepnote_cell_type": "code",
    "deepnote_cell_height": 144.1875
   },
   "source": "c.mute[4] = False",
   "execution_count": null,
   "outputs": [
    {
     "output_type": "error",
     "ename": "AttributeError",
     "evalue": "'tuple' object has no attribute 'mute'",
     "traceback": [
      "\u001b[0;31m---------------------------------------------------------------------------\u001b[0m",
      "\u001b[0;31mAttributeError\u001b[0m                            Traceback (most recent call last)",
      "\u001b[0;32m<ipython-input-80-92a52b13b5f9>\u001b[0m in \u001b[0;36m<module>\u001b[0;34m\u001b[0m\n\u001b[0;32m----> 1\u001b[0;31m \u001b[0mc\u001b[0m\u001b[0;34m.\u001b[0m\u001b[0mmute\u001b[0m\u001b[0;34m[\u001b[0m\u001b[0;36m4\u001b[0m\u001b[0;34m]\u001b[0m \u001b[0;34m=\u001b[0m \u001b[0;32mFalse\u001b[0m\u001b[0;34m\u001b[0m\u001b[0;34m\u001b[0m\u001b[0m\n\u001b[0m",
      "\u001b[0;31mAttributeError\u001b[0m: 'tuple' object has no attribute 'mute'"
     ]
    }
   ]
  },
  {
   "cell_type": "code",
   "metadata": {
    "cell_id": "652bd8cf-53f1-447e-a7ff-7ba4df106859",
    "tags": [],
    "deepnote_to_be_reexecuted": true,
    "source_hash": "8280834f",
    "execution_start": 1646758819056,
    "execution_millis": 1,
    "deepnote_cell_type": "code",
    "deepnote_cell_height": 81
   },
   "source": "d = 'Sunday', 'Monday', 'Tuesday'",
   "execution_count": null,
   "outputs": []
  },
  {
   "cell_type": "code",
   "metadata": {
    "cell_id": "2d993db1-215b-4bfd-8df4-bf34c1c96e3f",
    "tags": [],
    "deepnote_to_be_reexecuted": true,
    "source_hash": "77e91a23",
    "execution_start": 1646758847752,
    "execution_millis": 12,
    "deepnote_cell_type": "code",
    "deepnote_cell_height": 144.1875
   },
   "source": "d.append = 'Wednesday', 'Thursday'",
   "execution_count": null,
   "outputs": [
    {
     "output_type": "error",
     "ename": "AttributeError",
     "evalue": "'tuple' object has no attribute 'append'",
     "traceback": [
      "\u001b[0;31m---------------------------------------------------------------------------\u001b[0m",
      "\u001b[0;31mAttributeError\u001b[0m                            Traceback (most recent call last)",
      "\u001b[0;32m<ipython-input-83-fd9f5147cbe7>\u001b[0m in \u001b[0;36m<module>\u001b[0;34m\u001b[0m\n\u001b[0;32m----> 1\u001b[0;31m \u001b[0md\u001b[0m\u001b[0;34m.\u001b[0m\u001b[0mappend\u001b[0m \u001b[0;34m=\u001b[0m \u001b[0;34m'Wednesday'\u001b[0m\u001b[0;34m,\u001b[0m \u001b[0;34m'Thursday'\u001b[0m\u001b[0;34m\u001b[0m\u001b[0;34m\u001b[0m\u001b[0m\n\u001b[0m",
      "\u001b[0;31mAttributeError\u001b[0m: 'tuple' object has no attribute 'append'"
     ]
    }
   ]
  },
  {
   "cell_type": "code",
   "metadata": {
    "cell_id": "b9e6e2ee-8132-459a-af02-9895a6c7d072",
    "tags": [],
    "deepnote_to_be_reexecuted": true,
    "source_hash": "f5bd9cea",
    "execution_start": 1646759063324,
    "execution_millis": 4,
    "deepnote_cell_type": "code",
    "deepnote_cell_height": 165.6875
   },
   "source": "##if-else\nz = 70\nif z > 60:\n    print('passed')",
   "execution_count": null,
   "outputs": [
    {
     "name": "stdout",
     "text": "passed\n",
     "output_type": "stream"
    }
   ]
  },
  {
   "cell_type": "code",
   "metadata": {
    "cell_id": "2fd61804-e105-4f7e-afbd-40f781b65b34",
    "tags": [],
    "deepnote_to_be_reexecuted": true,
    "source_hash": "3a0985ac",
    "execution_start": 1646759225814,
    "execution_millis": 1,
    "deepnote_cell_type": "code",
    "deepnote_cell_height": 117
   },
   "source": "z = 70\nif z < 60:\n    print('passed')",
   "execution_count": null,
   "outputs": []
  },
  {
   "cell_type": "code",
   "metadata": {
    "cell_id": "206cabc3-f2c0-44dc-bd55-f2d8192800af",
    "tags": [],
    "deepnote_to_be_reexecuted": true,
    "source_hash": "a8651ccd",
    "execution_start": 1646759338245,
    "execution_millis": 6,
    "deepnote_cell_type": "code",
    "deepnote_cell_height": 183.6875
   },
   "source": "z = 70\nif z < 60:\n    print('passed')\nelse:\n    print('failed')",
   "execution_count": null,
   "outputs": [
    {
     "name": "stdout",
     "text": "failed\n",
     "output_type": "stream"
    }
   ]
  },
  {
   "cell_type": "code",
   "metadata": {
    "cell_id": "05d1435d-ca2e-40b2-9d31-12fb02efb027",
    "tags": [],
    "deepnote_to_be_reexecuted": true,
    "source_hash": "344e2ffe",
    "execution_start": 1646833430573,
    "execution_millis": 6,
    "deepnote_cell_type": "code",
    "deepnote_cell_height": 288.1875
   },
   "source": "y = 98\nif 0<=y<=20:\n    print(F)\nelse if ___:\n    print(xckmols)\nelse:\n    kmslnickskmcd\n\n",
   "execution_count": null,
   "outputs": [
    {
     "output_type": "error",
     "ename": "SyntaxError",
     "evalue": "invalid syntax (<ipython-input-1-48bba5a47d43>, line 4)",
     "traceback": [
      "\u001b[0;36m  File \u001b[0;32m\"<ipython-input-1-48bba5a47d43>\"\u001b[0;36m, line \u001b[0;32m4\u001b[0m\n\u001b[0;31m    else if\u001b[0m\n\u001b[0m          ^\u001b[0m\n\u001b[0;31mSyntaxError\u001b[0m\u001b[0;31m:\u001b[0m invalid syntax\n"
     ]
    }
   ]
  },
  {
   "cell_type": "code",
   "metadata": {
    "cell_id": "abef42cf-6805-41b7-b679-0ac8e3c21df5",
    "tags": [],
    "deepnote_to_be_reexecuted": true,
    "source_hash": "ec11d5a1",
    "execution_start": 1646833744068,
    "execution_millis": 2,
    "deepnote_cell_type": "code",
    "deepnote_cell_height": 219.6875
   },
   "source": "w = 55\nif w >= 70:\n    print(\"Did excellent\")\nelif w >= 60:\n    print(\"Did okay\")\nelse:\n    print(\"Sit up\")",
   "execution_count": null,
   "outputs": [
    {
     "name": "stdout",
     "text": "Sit up\n",
     "output_type": "stream"
    }
   ]
  },
  {
   "cell_type": "code",
   "metadata": {
    "cell_id": "5323cc5f-dcbb-428f-a3d7-2ae87119c483",
    "tags": [],
    "deepnote_to_be_reexecuted": true,
    "source_hash": "8d938ecc",
    "execution_start": 1646833832812,
    "execution_millis": 2,
    "deepnote_cell_type": "code",
    "deepnote_cell_height": 273.6875
   },
   "source": "w = 90\nif w >= 50:\n    print(\"Did excellent\")\nelif w >= 60:\n    print(\"Did okay\")\nelse:\n    print(\"Sit up\")\n\n\n##in python, the compiler compiles the first true condition",
   "execution_count": null,
   "outputs": [
    {
     "name": "stdout",
     "text": "Did excellent\n",
     "output_type": "stream"
    }
   ]
  },
  {
   "cell_type": "code",
   "metadata": {
    "cell_id": "924cd92e-b58d-446a-8d2e-df4d489f5585",
    "tags": [],
    "deepnote_to_be_reexecuted": true,
    "source_hash": "a6aab1ff",
    "execution_start": 1646834128303,
    "execution_millis": 2,
    "deepnote_cell_type": "code",
    "deepnote_cell_height": 117
   },
   "source": "a = 34\nif a == 30:\n    print(a)",
   "execution_count": null,
   "outputs": []
  },
  {
   "cell_type": "code",
   "metadata": {
    "cell_id": "77d8dfda-b119-4486-aa5f-32095fae5ed3",
    "tags": [],
    "deepnote_to_be_reexecuted": true,
    "source_hash": "8b769386",
    "execution_start": 1646834850913,
    "execution_millis": 2,
    "deepnote_cell_type": "code",
    "deepnote_cell_height": 472.34375
   },
   "source": "a = 8\nwhile a <20:\n    print(a)\n    a = a +1\n\n#####while loop is repeated, it needs \n##i. initialise\n##ii. test\n##iii. update",
   "execution_count": null,
   "outputs": [
    {
     "name": "stdout",
     "text": "8\n9\n10\n11\n12\n13\n14\n15\n16\n17\n18\n19\n",
     "output_type": "stream"
    }
   ]
  },
  {
   "cell_type": "code",
   "metadata": {
    "cell_id": "6584c120-cd5d-4f35-a911-8cb942e33f16",
    "tags": [],
    "deepnote_to_be_reexecuted": true,
    "source_hash": "bc88b3f9",
    "execution_start": 1646834993628,
    "execution_millis": 188,
    "deepnote_cell_type": "code",
    "deepnote_cell_height": 382.34375
   },
   "source": "a = 8\nwhile a <20:\n    print(a)\n    a += 1",
   "execution_count": null,
   "outputs": [
    {
     "name": "stdout",
     "text": "8\n9\n10\n11\n12\n13\n14\n15\n16\n17\n18\n19\n",
     "output_type": "stream"
    }
   ]
  },
  {
   "cell_type": "code",
   "metadata": {
    "cell_id": "171d8300-eebb-488f-b038-bd8633ca989f",
    "tags": [],
    "deepnote_to_be_reexecuted": true,
    "source_hash": "3760a877",
    "execution_start": 1646835120232,
    "execution_millis": 6,
    "deepnote_cell_type": "code",
    "deepnote_cell_height": 283.859375
   },
   "source": "a = 8\nwhile a <15:\n    print(a)\n    a += 1",
   "execution_count": null,
   "outputs": [
    {
     "name": "stdout",
     "text": "8\n9\n10\n11\n12\n13\n14\n",
     "output_type": "stream"
    }
   ]
  },
  {
   "cell_type": "code",
   "metadata": {
    "cell_id": "bebceab2-1e55-4e87-87d0-aead07fba37a",
    "tags": [],
    "deepnote_to_be_reexecuted": true,
    "source_hash": "14627854",
    "execution_start": 1646835197585,
    "execution_millis": 9,
    "deepnote_cell_type": "code",
    "deepnote_cell_height": 165.6875
   },
   "source": "a = 8\nwhile a <15:\n    print(a, end = \", \")\n    a += 1",
   "execution_count": null,
   "outputs": [
    {
     "name": "stdout",
     "text": "8, 9, 10, 11, 12, 13, 14, ",
     "output_type": "stream"
    }
   ]
  },
  {
   "cell_type": "code",
   "metadata": {
    "cell_id": "b985e5d2-ea4a-4254-83d1-292eb8ef0551",
    "tags": [],
    "deepnote_to_be_reexecuted": true,
    "source_hash": "5cadb7e1",
    "execution_start": 1646835659539,
    "execution_millis": 3,
    "deepnote_cell_type": "code",
    "deepnote_cell_height": 291.6875
   },
   "source": "a = 12\nwhile a < 20:\n    if a % 2 ==1:\n        a += 1\n        break\n    else:\n        print(a)\n        a += 1\n\n\n##only 12 is outputted when we use break",
   "execution_count": null,
   "outputs": [
    {
     "name": "stdout",
     "text": "12\n",
     "output_type": "stream"
    }
   ]
  },
  {
   "cell_type": "code",
   "metadata": {
    "cell_id": "6166ecb4-1bea-447c-b647-e7941df5ac4c",
    "tags": [],
    "deepnote_to_be_reexecuted": true,
    "source_hash": "d02bfbd1",
    "execution_start": 1646835673022,
    "execution_millis": 164,
    "deepnote_cell_type": "code",
    "deepnote_cell_height": 368.78125
   },
   "source": "a = 12\nwhile a < 20:\n    if a % 2 ==1:\n        a += 1\n        continue\n    else:\n        print(a)\n        a += 1\n\n\n##when we use a continue the output does not stop but continues\n",
   "execution_count": null,
   "outputs": [
    {
     "name": "stdout",
     "text": "12\n14\n16\n18\n",
     "output_type": "stream"
    }
   ]
  },
  {
   "cell_type": "code",
   "metadata": {
    "cell_id": "a29bc10c-7e9f-4de2-aefa-d7535bc12047",
    "tags": [],
    "deepnote_to_be_reexecuted": true,
    "source_hash": "3c4ac281",
    "execution_start": 1646836114767,
    "execution_millis": 4,
    "deepnote_cell_type": "code",
    "deepnote_cell_height": 282.171875
   },
   "source": "##for loops do not need conditions they use sequence\n\na = \"Python\"\nfor i in a:\n    print(i)",
   "execution_count": null,
   "outputs": [
    {
     "name": "stdout",
     "text": "P\ny\nt\nh\no\nn\n",
     "output_type": "stream"
    }
   ]
  },
  {
   "cell_type": "code",
   "metadata": {
    "cell_id": "3b5334fa-05c1-4211-b4c0-2b6c67ac55f7",
    "tags": [],
    "deepnote_to_be_reexecuted": true,
    "source_hash": "614baf66",
    "execution_start": 1646836164940,
    "execution_millis": 6,
    "deepnote_cell_type": "code",
    "deepnote_cell_height": 172.1875,
    "deepnote_output_heights": [
     21.1875
    ]
   },
   "source": "##range -- range of values\n#it only works with integers\n##list(range(start, end, step))\nlist(range(0,20,2))",
   "execution_count": null,
   "outputs": [
    {
     "output_type": "execute_result",
     "execution_count": 43,
     "data": {
      "text/plain": "[0, 2, 4, 6, 8, 10, 12, 14, 16, 18]"
     },
     "metadata": {}
    }
   ]
  },
  {
   "cell_type": "code",
   "metadata": {
    "cell_id": "68a083d5-e73b-4c4a-9333-3adda9b9e647",
    "tags": [],
    "deepnote_to_be_reexecuted": true,
    "source_hash": "5440ebb5",
    "execution_start": 1646836290119,
    "execution_millis": 13,
    "deepnote_cell_type": "code",
    "deepnote_cell_height": 136.1875,
    "deepnote_output_heights": [
     21.1875
    ]
   },
   "source": "#from back\nlist(range(20, 0, -2))",
   "execution_count": null,
   "outputs": [
    {
     "output_type": "execute_result",
     "execution_count": 45,
     "data": {
      "text/plain": "[20, 18, 16, 14, 12, 10, 8, 6, 4, 2]"
     },
     "metadata": {}
    }
   ]
  },
  {
   "cell_type": "code",
   "metadata": {
    "cell_id": "09a010bf-2b4f-48eb-970e-e7fd999443d4",
    "tags": [],
    "deepnote_to_be_reexecuted": true,
    "source_hash": "cc9024a1",
    "execution_start": 1646836539432,
    "execution_millis": 1,
    "deepnote_cell_type": "code",
    "deepnote_cell_height": 306.953125
   },
   "source": "for i in range(10):\n    print(i**2 + 2*i +1)",
   "execution_count": null,
   "outputs": [
    {
     "name": "stdout",
     "text": "1\n4\n9\n16\n25\n36\n49\n64\n81\n100\n",
     "output_type": "stream"
    }
   ]
  },
  {
   "cell_type": "code",
   "metadata": {
    "cell_id": "0aeb492d-a8ab-4bed-a272-4abc7a2eb4cf",
    "tags": [],
    "deepnote_to_be_reexecuted": true,
    "source_hash": "d7a178f8",
    "execution_start": 1646836580112,
    "execution_millis": 6,
    "deepnote_cell_type": "code",
    "deepnote_cell_height": 118.1875,
    "deepnote_output_heights": [
     21.1875
    ]
   },
   "source": "range(5)",
   "execution_count": null,
   "outputs": [
    {
     "output_type": "execute_result",
     "execution_count": 48,
     "data": {
      "text/plain": "range(0, 5)"
     },
     "metadata": {}
    }
   ]
  },
  {
   "cell_type": "code",
   "metadata": {
    "cell_id": "661f8619-e0b8-445a-95b8-c029029e4cee",
    "tags": [],
    "deepnote_to_be_reexecuted": true,
    "source_hash": "3b1ead75",
    "execution_start": 1646837092686,
    "execution_millis": 5,
    "deepnote_cell_type": "code",
    "deepnote_cell_height": 206.1875
   },
   "source": "##using range for floating numbers\nx =[]\nfor i in range(101):\n    x.append(i/100)\nprint(x)\n",
   "execution_count": null,
   "outputs": [
    {
     "name": "stdout",
     "text": "[0.0, 0.01, 0.02, 0.03, 0.04, 0.05, 0.06, 0.07, 0.08, 0.09, 0.1, 0.11, 0.12, 0.13, 0.14, 0.15, 0.16, 0.17, 0.18, 0.19, 0.2, 0.21, 0.22, 0.23, 0.24, 0.25, 0.26, 0.27, 0.28, 0.29, 0.3, 0.31, 0.32, 0.33, 0.34, 0.35, 0.36, 0.37, 0.38, 0.39, 0.4, 0.41, 0.42, 0.43, 0.44, 0.45, 0.46, 0.47, 0.48, 0.49, 0.5, 0.51, 0.52, 0.53, 0.54, 0.55, 0.56, 0.57, 0.58, 0.59, 0.6, 0.61, 0.62, 0.63, 0.64, 0.65, 0.66, 0.67, 0.68, 0.69, 0.7, 0.71, 0.72, 0.73, 0.74, 0.75, 0.76, 0.77, 0.78, 0.79, 0.8, 0.81, 0.82, 0.83, 0.84, 0.85, 0.86, 0.87, 0.88, 0.89, 0.9, 0.91, 0.92, 0.93, 0.94, 0.95, 0.96, 0.97, 0.98, 0.99, 1.0]\n",
     "output_type": "stream"
    }
   ]
  },
  {
   "cell_type": "code",
   "metadata": {
    "cell_id": "1d4d21ea-6fe2-4a30-848b-7895c3207889",
    "tags": [],
    "deepnote_to_be_reexecuted": true,
    "source_hash": "2d78ee04",
    "execution_start": 1646837195598,
    "execution_millis": 6,
    "deepnote_cell_type": "code",
    "deepnote_cell_height": 296.1875
   },
   "source": "##x = [0.001,0.002,0.003]\n##y = x^2 ....\nx =[]\nfor i in range(1001):\n    x.append(i/1000)\nprint(x)\ny= []\nfor i in x:\n    y.append(2*i**2 + 4*i +3)\n\n",
   "execution_count": null,
   "outputs": [
    {
     "name": "stdout",
     "text": "[0.0, 0.001, 0.002, 0.003, 0.004, 0.005, 0.006, 0.007, 0.008, 0.009, 0.01, 0.011, 0.012, 0.013, 0.014, 0.015, 0.016, 0.017, 0.018, 0.019, 0.02, 0.021, 0.022, 0.023, 0.024, 0.025, 0.026, 0.027, 0.028, 0.029, 0.03, 0.031, 0.032, 0.033, 0.034, 0.035, 0.036, 0.037, 0.038, 0.039, 0.04, 0.041, 0.042, 0.043, 0.044, 0.045, 0.046, 0.047, 0.048, 0.049, 0.05, 0.051, 0.052, 0.053, 0.054, 0.055, 0.056, 0.057, 0.058, 0.059, 0.06, 0.061, 0.062, 0.063, 0.064, 0.065, 0.066, 0.067, 0.068, 0.069, 0.07, 0.071, 0.072, 0.073, 0.074, 0.075, 0.076, 0.077, 0.078, 0.079, 0.08, 0.081, 0.082, 0.083, 0.084, 0.085, 0.086, 0.087, 0.088, 0.089, 0.09, 0.091, 0.092, 0.093, 0.094, 0.095, 0.096, 0.097, 0.098, 0.099, 0.1, 0.101, 0.102, 0.103, 0.104, 0.105, 0.106, 0.107, 0.108, 0.109, 0.11, 0.111, 0.112, 0.113, 0.114, 0.115, 0.116, 0.117, 0.118, 0.119, 0.12, 0.121, 0.122, 0.123, 0.124, 0.125, 0.126, 0.127, 0.128, 0.129, 0.13, 0.131, 0.132, 0.133, 0.134, 0.135, 0.136, 0.137, 0.138, 0.139, 0.14, 0.141, 0.142, 0.143, 0.144, 0.145, 0.146, 0.147, 0.148, 0.149, 0.15, 0.151, 0.152, 0.153, 0.154, 0.155, 0.156, 0.157, 0.158, 0.159, 0.16, 0.161, 0.162, 0.163, 0.164, 0.165, 0.166, 0.167, 0.168, 0.169, 0.17, 0.171, 0.172, 0.173, 0.174, 0.175, 0.176, 0.177, 0.178, 0.179, 0.18, 0.181, 0.182, 0.183, 0.184, 0.185, 0.186, 0.187, 0.188, 0.189, 0.19, 0.191, 0.192, 0.193, 0.194, 0.195, 0.196, 0.197, 0.198, 0.199, 0.2, 0.201, 0.202, 0.203, 0.204, 0.205, 0.206, 0.207, 0.208, 0.209, 0.21, 0.211, 0.212, 0.213, 0.214, 0.215, 0.216, 0.217, 0.218, 0.219, 0.22, 0.221, 0.222, 0.223, 0.224, 0.225, 0.226, 0.227, 0.228, 0.229, 0.23, 0.231, 0.232, 0.233, 0.234, 0.235, 0.236, 0.237, 0.238, 0.239, 0.24, 0.241, 0.242, 0.243, 0.244, 0.245, 0.246, 0.247, 0.248, 0.249, 0.25, 0.251, 0.252, 0.253, 0.254, 0.255, 0.256, 0.257, 0.258, 0.259, 0.26, 0.261, 0.262, 0.263, 0.264, 0.265, 0.266, 0.267, 0.268, 0.269, 0.27, 0.271, 0.272, 0.273, 0.274, 0.275, 0.276, 0.277, 0.278, 0.279, 0.28, 0.281, 0.282, 0.283, 0.284, 0.285, 0.286, 0.287, 0.288, 0.289, 0.29, 0.291, 0.292, 0.293, 0.294, 0.295, 0.296, 0.297, 0.298, 0.299, 0.3, 0.301, 0.302, 0.303, 0.304, 0.305, 0.306, 0.307, 0.308, 0.309, 0.31, 0.311, 0.312, 0.313, 0.314, 0.315, 0.316, 0.317, 0.318, 0.319, 0.32, 0.321, 0.322, 0.323, 0.324, 0.325, 0.326, 0.327, 0.328, 0.329, 0.33, 0.331, 0.332, 0.333, 0.334, 0.335, 0.336, 0.337, 0.338, 0.339, 0.34, 0.341, 0.342, 0.343, 0.344, 0.345, 0.346, 0.347, 0.348, 0.349, 0.35, 0.351, 0.352, 0.353, 0.354, 0.355, 0.356, 0.357, 0.358, 0.359, 0.36, 0.361, 0.362, 0.363, 0.364, 0.365, 0.366, 0.367, 0.368, 0.369, 0.37, 0.371, 0.372, 0.373, 0.374, 0.375, 0.376, 0.377, 0.378, 0.379, 0.38, 0.381, 0.382, 0.383, 0.384, 0.385, 0.386, 0.387, 0.388, 0.389, 0.39, 0.391, 0.392, 0.393, 0.394, 0.395, 0.396, 0.397, 0.398, 0.399, 0.4, 0.401, 0.402, 0.403, 0.404, 0.405, 0.406, 0.407, 0.408, 0.409, 0.41, 0.411, 0.412, 0.413, 0.414, 0.415, 0.416, 0.417, 0.418, 0.419, 0.42, 0.421, 0.422, 0.423, 0.424, 0.425, 0.426, 0.427, 0.428, 0.429, 0.43, 0.431, 0.432, 0.433, 0.434, 0.435, 0.436, 0.437, 0.438, 0.439, 0.44, 0.441, 0.442, 0.443, 0.444, 0.445, 0.446, 0.447, 0.448, 0.449, 0.45, 0.451, 0.452, 0.453, 0.454, 0.455, 0.456, 0.457, 0.458, 0.459, 0.46, 0.461, 0.462, 0.463, 0.464, 0.465, 0.466, 0.467, 0.468, 0.469, 0.47, 0.471, 0.472, 0.473, 0.474, 0.475, 0.476, 0.477, 0.478, 0.479, 0.48, 0.481, 0.482, 0.483, 0.484, 0.485, 0.486, 0.487, 0.488, 0.489, 0.49, 0.491, 0.492, 0.493, 0.494, 0.495, 0.496, 0.497, 0.498, 0.499, 0.5, 0.501, 0.502, 0.503, 0.504, 0.505, 0.506, 0.507, 0.508, 0.509, 0.51, 0.511, 0.512, 0.513, 0.514, 0.515, 0.516, 0.517, 0.518, 0.519, 0.52, 0.521, 0.522, 0.523, 0.524, 0.525, 0.526, 0.527, 0.528, 0.529, 0.53, 0.531, 0.532, 0.533, 0.534, 0.535, 0.536, 0.537, 0.538, 0.539, 0.54, 0.541, 0.542, 0.543, 0.544, 0.545, 0.546, 0.547, 0.548, 0.549, 0.55, 0.551, 0.552, 0.553, 0.554, 0.555, 0.556, 0.557, 0.558, 0.559, 0.56, 0.561, 0.562, 0.563, 0.564, 0.565, 0.566, 0.567, 0.568, 0.569, 0.57, 0.571, 0.572, 0.573, 0.574, 0.575, 0.576, 0.577, 0.578, 0.579, 0.58, 0.581, 0.582, 0.583, 0.584, 0.585, 0.586, 0.587, 0.588, 0.589, 0.59, 0.591, 0.592, 0.593, 0.594, 0.595, 0.596, 0.597, 0.598, 0.599, 0.6, 0.601, 0.602, 0.603, 0.604, 0.605, 0.606, 0.607, 0.608, 0.609, 0.61, 0.611, 0.612, 0.613, 0.614, 0.615, 0.616, 0.617, 0.618, 0.619, 0.62, 0.621, 0.622, 0.623, 0.624, 0.625, 0.626, 0.627, 0.628, 0.629, 0.63, 0.631, 0.632, 0.633, 0.634, 0.635, 0.636, 0.637, 0.638, 0.639, 0.64, 0.641, 0.642, 0.643, 0.644, 0.645, 0.646, 0.647, 0.648, 0.649, 0.65, 0.651, 0.652, 0.653, 0.654, 0.655, 0.656, 0.657, 0.658, 0.659, 0.66, 0.661, 0.662, 0.663, 0.664, 0.665, 0.666, 0.667, 0.668, 0.669, 0.67, 0.671, 0.672, 0.673, 0.674, 0.675, 0.676, 0.677, 0.678, 0.679, 0.68, 0.681, 0.682, 0.683, 0.684, 0.685, 0.686, 0.687, 0.688, 0.689, 0.69, 0.691, 0.692, 0.693, 0.694, 0.695, 0.696, 0.697, 0.698, 0.699, 0.7, 0.701, 0.702, 0.703, 0.704, 0.705, 0.706, 0.707, 0.708, 0.709, 0.71, 0.711, 0.712, 0.713, 0.714, 0.715, 0.716, 0.717, 0.718, 0.719, 0.72, 0.721, 0.722, 0.723, 0.724, 0.725, 0.726, 0.727, 0.728, 0.729, 0.73, 0.731, 0.732, 0.733, 0.734, 0.735, 0.736, 0.737, 0.738, 0.739, 0.74, 0.741, 0.742, 0.743, 0.744, 0.745, 0.746, 0.747, 0.748, 0.749, 0.75, 0.751, 0.752, 0.753, 0.754, 0.755, 0.756, 0.757, 0.758, 0.759, 0.76, 0.761, 0.762, 0.763, 0.764, 0.765, 0.766, 0.767, 0.768, 0.769, 0.77, 0.771, 0.772, 0.773, 0.774, 0.775, 0.776, 0.777, 0.778, 0.779, 0.78, 0.781, 0.782, 0.783, 0.784, 0.785, 0.786, 0.787, 0.788, 0.789, 0.79, 0.791, 0.792, 0.793, 0.794, 0.795, 0.796, 0.797, 0.798, 0.799, 0.8, 0.801, 0.802, 0.803, 0.804, 0.805, 0.806, 0.807, 0.808, 0.809, 0.81, 0.811, 0.812, 0.813, 0.814, 0.815, 0.816, 0.817, 0.818, 0.819, 0.82, 0.821, 0.822, 0.823, 0.824, 0.825, 0.826, 0.827, 0.828, 0.829, 0.83, 0.831, 0.832, 0.833, 0.834, 0.835, 0.836, 0.837, 0.838, 0.839, 0.84, 0.841, 0.842, 0.843, 0.844, 0.845, 0.846, 0.847, 0.848, 0.849, 0.85, 0.851, 0.852, 0.853, 0.854, 0.855, 0.856, 0.857, 0.858, 0.859, 0.86, 0.861, 0.862, 0.863, 0.864, 0.865, 0.866, 0.867, 0.868, 0.869, 0.87, 0.871, 0.872, 0.873, 0.874, 0.875, 0.876, 0.877, 0.878, 0.879, 0.88, 0.881, 0.882, 0.883, 0.884, 0.885, 0.886, 0.887, 0.888, 0.889, 0.89, 0.891, 0.892, 0.893, 0.894, 0.895, 0.896, 0.897, 0.898, 0.899, 0.9, 0.901, 0.902, 0.903, 0.904, 0.905, 0.906, 0.907, 0.908, 0.909, 0.91, 0.911, 0.912, 0.913, 0.914, 0.915, 0.916, 0.917, 0.918, 0.919, 0.92, 0.921, 0.922, 0.923, 0.924, 0.925, 0.926, 0.927, 0.928, 0.929, 0.93, 0.931, 0.932, 0.933, 0.934, 0.935, 0.936, 0.937, 0.938, 0.939, 0.94, 0.941, 0.942, 0.943, 0.944, 0.945, 0.946, 0.947, 0.948, 0.949, 0.95, 0.951, 0.952, 0.953, 0.954, 0.955, 0.956, 0.957, 0.958, 0.959, 0.96, 0.961, 0.962, 0.963, 0.964, 0.965, 0.966, 0.967, 0.968, 0.969, 0.97, 0.971, 0.972, 0.973, 0.974, 0.975, 0.976, 0.977, 0.978, 0.979, 0.98, 0.981, 0.982, 0.983, 0.984, 0.985, 0.986, 0.987, 0.988, 0.989, 0.99, 0.991, 0.992, 0.993, 0.994, 0.995, 0.996, 0.997, 0.998, 0.999, 1.0]\n",
     "output_type": "stream"
    }
   ]
  },
  {
   "cell_type": "code",
   "metadata": {
    "cell_id": "d7e449b2-b7b9-4c89-bf05-23923d8ad247",
    "tags": [],
    "deepnote_to_be_reexecuted": true,
    "source_hash": "2e2f43ae",
    "execution_start": 1646837721694,
    "execution_millis": 0,
    "deepnote_cell_type": "code",
    "deepnote_cell_height": 315
   },
   "source": "##x [1,3] with 51 points \n##y = 4x^2 -2x + 4\n\nx =[]\ny =[]\ndt = 1/25\n\nfor i in range(51):\n    x.append(1+i*dt)\nfor i in x:\n    y.append(4*i**2 - 2*i + 4)\n\n\n",
   "execution_count": null,
   "outputs": []
  },
  {
   "cell_type": "code",
   "metadata": {
    "cell_id": "1cd7041a-e332-42af-9daa-7840bdf10583",
    "tags": [],
    "deepnote_to_be_reexecuted": true,
    "source_hash": "cbfce644",
    "execution_start": 1646837737614,
    "execution_millis": 8,
    "deepnote_cell_type": "code",
    "deepnote_cell_height": 118.1875,
    "deepnote_output_heights": [
     21.1875
    ]
   },
   "source": "len(x)",
   "execution_count": null,
   "outputs": [
    {
     "output_type": "execute_result",
     "execution_count": 61,
     "data": {
      "text/plain": "51"
     },
     "metadata": {}
    }
   ]
  },
  {
   "cell_type": "code",
   "metadata": {
    "cell_id": "23f6c94b-e1a8-4aab-a088-0b7243b1a4c3",
    "tags": [],
    "deepnote_to_be_reexecuted": true,
    "source_hash": "38a4ac96",
    "execution_start": 1646837816096,
    "execution_millis": 290,
    "deepnote_cell_type": "code",
    "deepnote_cell_height": 118.1875,
    "deepnote_output_heights": [
     21.1875
    ]
   },
   "source": "len(y)",
   "execution_count": null,
   "outputs": [
    {
     "output_type": "execute_result",
     "execution_count": 62,
     "data": {
      "text/plain": "51"
     },
     "metadata": {}
    }
   ]
  },
  {
   "cell_type": "code",
   "metadata": {
    "cell_id": "415e4d66-0404-4072-8e08-827a420e457b",
    "tags": [],
    "deepnote_to_be_reexecuted": true,
    "source_hash": "8a195a7e",
    "execution_start": 1646838479352,
    "execution_millis": 3,
    "deepnote_cell_type": "code",
    "deepnote_cell_height": 99
   },
   "source": "##dictionary with curly brackets\na = {'gravity': 9.8, 'PI': 3.142}",
   "execution_count": null,
   "outputs": []
  },
  {
   "cell_type": "code",
   "metadata": {
    "cell_id": "4fe944f7-a2b6-4770-b870-e926a37e7bf2",
    "tags": [],
    "deepnote_to_be_reexecuted": true,
    "source_hash": "d72a4e03",
    "execution_start": 1646838481558,
    "execution_millis": 12,
    "deepnote_cell_type": "code",
    "deepnote_cell_height": 136.1875,
    "deepnote_output_heights": [
     21.1875
    ]
   },
   "source": "##to output we use the key\na['PI']",
   "execution_count": null,
   "outputs": [
    {
     "output_type": "execute_result",
     "execution_count": 68,
     "data": {
      "text/plain": "3.142"
     },
     "metadata": {}
    }
   ]
  },
  {
   "cell_type": "code",
   "metadata": {
    "cell_id": "0bfbd9fe-8d8b-4b25-b8b9-44d31a4b8c34",
    "tags": [],
    "deepnote_to_be_reexecuted": true,
    "source_hash": "ef4233c",
    "execution_start": 1646838493490,
    "execution_millis": 3,
    "deepnote_cell_type": "code",
    "deepnote_cell_height": 118.1875,
    "deepnote_output_heights": [
     21.1875
    ]
   },
   "source": "a",
   "execution_count": null,
   "outputs": [
    {
     "output_type": "execute_result",
     "execution_count": 69,
     "data": {
      "text/plain": "{'gravity': 9.8, 'PI': 3.142}"
     },
     "metadata": {}
    }
   ]
  },
  {
   "cell_type": "markdown",
   "source": "<a style='text-decoration:none;line-height:16px;display:flex;color:#5B5B62;padding:10px;justify-content:end;' href='https://deepnote.com?utm_source=created-in-deepnote-cell&projectId=30d18d2f-9eb2-4198-9d0b-4301362f37e2' target=\"_blank\">\n<img alt='Created in deepnote.com' style='display:inline;max-height:16px;margin:0px;margin-right:7.5px;' src='data:image/svg+xml;base64,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' > </img>\nCreated in <span style='font-weight:600;margin-left:4px;'>Deepnote</span></a>",
   "metadata": {
    "tags": [],
    "created_in_deepnote_cell": true,
    "deepnote_cell_type": "markdown"
   }
  }
 ],
 "nbformat": 4,
 "nbformat_minor": 2,
 "metadata": {
  "orig_nbformat": 2,
  "deepnote": {
   "is_reactive": false
  },
  "deepnote_notebook_id": "e3e7fd21-1b31-4a8c-8c42-77db99cdc9bb",
  "deepnote_execution_queue": []
 }
}