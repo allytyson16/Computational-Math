{
 "cells": [
  {
   "cell_type": "code",
   "source": "# 80-100 A \n# 75-79 B+\n# 74-70 B \n# 69-65 C+\n# 64-60 C  \n# 59-55 D+\n# 54-50 D \n# 49-45 E \n# 44-0 F\n\na = 78\nif a <= 100 and a >= 80:\n    print(\"A\")\nelif a <=79 and a >= 75:\n    print(\"B+\")\nelif a <= 74 and a >= 70:\n    print(\"B\")\nelif a <= 69 and a >= 65:\n    print(\"C+\")\nelif a <= 64 and a >= 60:\n    print(\"C\")\nelif a <= 59 and a >= 55:\n    print(\"D+\")\nelif a <= 54 and a >= 50:\n    print(\"D\")\nelif a <= 49 and a >= 45:\n    print(\"E\")\nelse:\n    print(\"F\")\n\n\n\n",
   "metadata": {
    "cell_id": "25da4fb4-b4df-40df-927a-78279310da0a",
    "tags": [],
    "deepnote_to_be_reexecuted": false,
    "source_hash": "fd1da9f4",
    "execution_start": 1647362547097,
    "execution_millis": 26,
    "deepnote_cell_type": "code",
    "deepnote_cell_height": 687.6875
   },
   "outputs": [
    {
     "name": "stdout",
     "text": "B+\n",
     "output_type": "stream"
    }
   ],
   "execution_count": 1
  },
  {
   "cell_type": "code",
   "source": "####OR\ngrades = [\"F\", \"E\",\"D\", \"D+\",\"C\", \"C+\",\"B\", \"B+\",\"A\" ]\na = 78\na = (int(a/5))\na = max(min(a,16),8)-8\nprint(grades[a])",
   "metadata": {
    "cell_id": "115b8dcf-c5ed-413e-9ebe-0752c8b3a5cb",
    "tags": [],
    "deepnote_to_be_reexecuted": false,
    "source_hash": "3c0c7750",
    "execution_start": 1647363284002,
    "execution_millis": 14,
    "deepnote_cell_type": "code",
    "deepnote_cell_height": 201.6875
   },
   "outputs": [
    {
     "name": "stdout",
     "text": "B+\n",
     "output_type": "stream"
    }
   ],
   "execution_count": 10
  },
  {
   "cell_type": "code",
   "source": "###def function\ndef calcgrades(a):\n    grades = [\"F\", \"E\",\"D\", \"D+\",\"C\", \"C+\",\"B\", \"B+\",\"A\" ]\n    a = 78\n    a = (int(a/5))\n    a = max(min(a,16),8)-8\n    print(grades[a])\n",
   "metadata": {
    "cell_id": "9e2fe853-b96d-4638-a384-708d9d14c377",
    "tags": [],
    "deepnote_to_be_reexecuted": false,
    "source_hash": "700649f1",
    "execution_start": 1647363717494,
    "execution_millis": 40,
    "deepnote_cell_type": "code",
    "deepnote_cell_height": 237.6875
   },
   "outputs": [
    {
     "name": "stdout",
     "text": "B+\n",
     "output_type": "stream"
    }
   ],
   "execution_count": 22
  },
  {
   "cell_type": "code",
   "source": "grade1 = calcgrades(a)",
   "metadata": {
    "cell_id": "d03bde1d-f6bf-446b-bc0a-6fb691eb5ea8",
    "tags": [],
    "deepnote_to_be_reexecuted": false,
    "source_hash": "e08a58d2",
    "execution_start": 1647363555801,
    "execution_millis": 4,
    "deepnote_cell_type": "code",
    "deepnote_cell_height": 81
   },
   "outputs": [],
   "execution_count": 18
  },
  {
   "cell_type": "code",
   "source": "grade2 = calcgrades(66)",
   "metadata": {
    "cell_id": "d667a123-594a-476f-adc0-bcc41a9f5bac",
    "tags": [],
    "deepnote_to_be_reexecuted": false,
    "source_hash": "f8dd8ea0",
    "execution_start": 1647363833065,
    "execution_millis": 0,
    "deepnote_cell_type": "code",
    "deepnote_cell_height": 81
   },
   "outputs": [],
   "execution_count": 27
  },
  {
   "cell_type": "code",
   "source": "def calcgrades2(a):\n    grades = [\"F\", \"E\",\"D\", \"D+\",\"C\", \"C+\",\"B\", \"B+\",\"A\" ]\n    a = (int(a/5))\n    a = max(min(a,16),8)-8\n    return grades[a]",
   "metadata": {
    "cell_id": "a07a4a4c-2681-445e-9453-7cd0cde75f86",
    "tags": [],
    "deepnote_to_be_reexecuted": false,
    "source_hash": "8f6c7d69",
    "execution_start": 1647363829840,
    "execution_millis": 4,
    "deepnote_cell_type": "code",
    "deepnote_cell_height": 153
   },
   "outputs": [],
   "execution_count": 26
  },
  {
   "cell_type": "code",
   "source": "grade2 = calcgrades2(66)",
   "metadata": {
    "cell_id": "2fcb8664-5d42-4817-86b1-31842ed2dfa0",
    "tags": [],
    "deepnote_to_be_reexecuted": false,
    "source_hash": "a3755493",
    "execution_start": 1647363861067,
    "execution_millis": 2,
    "deepnote_cell_type": "code",
    "deepnote_cell_height": 81
   },
   "outputs": [],
   "execution_count": 29
  },
  {
   "cell_type": "code",
   "source": "f = lambda x: 2*x**2 -5*x +2",
   "metadata": {
    "cell_id": "325422b2-721c-41e2-84a3-a7269d37f184",
    "tags": [],
    "deepnote_to_be_reexecuted": false,
    "source_hash": "69e2bcdc",
    "execution_start": 1647363966305,
    "execution_millis": 2,
    "deepnote_cell_type": "code",
    "deepnote_cell_height": 81
   },
   "outputs": [],
   "execution_count": 30
  },
  {
   "cell_type": "code",
   "source": "print(f(34))",
   "metadata": {
    "cell_id": "86524f20-dd96-467e-813e-5b880cdb7387",
    "tags": [],
    "deepnote_to_be_reexecuted": false,
    "source_hash": "bc780290",
    "execution_start": 1647363980946,
    "execution_millis": 0,
    "deepnote_cell_type": "code",
    "deepnote_cell_height": 66
   },
   "outputs": [
    {
     "name": "stdout",
     "text": "2144\n",
     "output_type": "stream"
    }
   ],
   "execution_count": 31
  },
  {
   "cell_type": "code",
   "source": "",
   "metadata": {
    "cell_id": "cd7a91f1-f3be-45f8-ab5b-e0a0d944275e",
    "tags": [],
    "deepnote_cell_type": "code"
   },
   "outputs": [],
   "execution_count": null
  },
  {
   "cell_type": "markdown",
   "source": "<a style='text-decoration:none;line-height:16px;display:flex;color:#5B5B62;padding:10px;justify-content:end;' href='https://deepnote.com?utm_source=created-in-deepnote-cell&projectId=30d18d2f-9eb2-4198-9d0b-4301362f37e2' target=\"_blank\">\n<img alt='Created in deepnote.com' style='display:inline;max-height:16px;margin:0px;margin-right:7.5px;' src='data:image/svg+xml;base64,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' > </img>\nCreated in <span style='font-weight:600;margin-left:4px;'>Deepnote</span></a>",
   "metadata": {
    "tags": [],
    "created_in_deepnote_cell": true,
    "deepnote_cell_type": "markdown"
   }
  }
 ],
 "nbformat": 4,
 "nbformat_minor": 2,
 "metadata": {
  "orig_nbformat": 2,
  "deepnote": {
   "is_reactive": false
  },
  "deepnote_notebook_id": "a00cfc2e-73cd-4930-9f8f-829fad98c325",
  "deepnote_execution_queue": []
 }
}