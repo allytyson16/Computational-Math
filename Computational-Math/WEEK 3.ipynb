{
 "cells": [
  {
   "cell_type": "code",
   "metadata": {
    "cell_id": "25da4fb4-b4df-40df-927a-78279310da0a",
    "tags": [],
    "deepnote_to_be_reexecuted": false,
    "source_hash": "fd1da9f4",
    "execution_start": 1647362547097,
    "execution_millis": 26,
    "deepnote_cell_type": "code",
    "deepnote_cell_height": 687.6875
   },
   "source": "# 80-100 A \n# 75-79 B+\n# 74-70 B \n# 69-65 C+\n# 64-60 C  \n# 59-55 D+\n# 54-50 D \n# 49-45 E \n# 44-0 F\n\na = 78\nif a <= 100 and a >= 80:\n    print(\"A\")\nelif a <=79 and a >= 75:\n    print(\"B+\")\nelif a <= 74 and a >= 70:\n    print(\"B\")\nelif a <= 69 and a >= 65:\n    print(\"C+\")\nelif a <= 64 and a >= 60:\n    print(\"C\")\nelif a <= 59 and a >= 55:\n    print(\"D+\")\nelif a <= 54 and a >= 50:\n    print(\"D\")\nelif a <= 49 and a >= 45:\n    print(\"E\")\nelse:\n    print(\"F\")\n\n\n\n",
   "execution_count": null,
   "outputs": [
    {
     "name": "stdout",
     "text": "B+\n",
     "output_type": "stream"
    }
   ]
  },
  {
   "cell_type": "code",
   "metadata": {
    "cell_id": "115b8dcf-c5ed-413e-9ebe-0752c8b3a5cb",
    "tags": [],
    "deepnote_to_be_reexecuted": false,
    "source_hash": "3c0c7750",
    "execution_start": 1647363284002,
    "execution_millis": 14,
    "deepnote_cell_type": "code",
    "deepnote_cell_height": 201.6875
   },
   "source": "####OR\ngrades = [\"F\", \"E\",\"D\", \"D+\",\"C\", \"C+\",\"B\", \"B+\",\"A\" ]\na = 78\na = (int(a/5))\na = max(min(a,16),8)-8\nprint(grades[a])",
   "execution_count": null,
   "outputs": [
    {
     "name": "stdout",
     "text": "B+\n",
     "output_type": "stream"
    }
   ]
  },
  {
   "cell_type": "code",
   "metadata": {
    "cell_id": "9e2fe853-b96d-4638-a384-708d9d14c377",
    "tags": [],
    "deepnote_to_be_reexecuted": false,
    "source_hash": "700649f1",
    "execution_start": 1647363717494,
    "execution_millis": 40,
    "deepnote_cell_type": "code",
    "deepnote_cell_height": 237.6875
   },
   "source": "###def function\ndef calcgrades(a):\n    grades = [\"F\", \"E\",\"D\", \"D+\",\"C\", \"C+\",\"B\", \"B+\",\"A\" ]\n    a = 78\n    a = (int(a/5))\n    a = max(min(a,16),8)-8\n    print(grades[a])\n",
   "execution_count": null,
   "outputs": [
    {
     "name": "stdout",
     "text": "B+\n",
     "output_type": "stream"
    }
   ]
  },
  {
   "cell_type": "code",
   "metadata": {
    "cell_id": "d03bde1d-f6bf-446b-bc0a-6fb691eb5ea8",
    "tags": [],
    "deepnote_to_be_reexecuted": false,
    "source_hash": "e08a58d2",
    "execution_start": 1647363555801,
    "execution_millis": 4,
    "deepnote_cell_type": "code",
    "deepnote_cell_height": 81
   },
   "source": "grade1 = calcgrades(a)",
   "execution_count": null,
   "outputs": []
  },
  {
   "cell_type": "code",
   "metadata": {
    "cell_id": "d667a123-594a-476f-adc0-bcc41a9f5bac",
    "tags": [],
    "deepnote_to_be_reexecuted": false,
    "source_hash": "f8dd8ea0",
    "execution_start": 1647363833065,
    "execution_millis": 0,
    "deepnote_cell_type": "code",
    "deepnote_cell_height": 81
   },
   "source": "grade2 = calcgrades(66)",
   "execution_count": null,
   "outputs": []
  },
  {
   "cell_type": "code",
   "metadata": {
    "cell_id": "a07a4a4c-2681-445e-9453-7cd0cde75f86",
    "tags": [],
    "deepnote_to_be_reexecuted": false,
    "source_hash": "8f6c7d69",
    "execution_start": 1647363829840,
    "execution_millis": 4,
    "deepnote_cell_type": "code",
    "deepnote_cell_height": 153
   },
   "source": "def calcgrades2(a):\n    grades = [\"F\", \"E\",\"D\", \"D+\",\"C\", \"C+\",\"B\", \"B+\",\"A\" ]\n    a = (int(a/5))\n    a = max(min(a,16),8)-8\n    return grades[a]",
   "execution_count": null,
   "outputs": []
  },
  {
   "cell_type": "code",
   "metadata": {
    "cell_id": "2fcb8664-5d42-4817-86b1-31842ed2dfa0",
    "tags": [],
    "deepnote_to_be_reexecuted": false,
    "source_hash": "a3755493",
    "execution_start": 1647363861067,
    "execution_millis": 2,
    "deepnote_cell_type": "code",
    "deepnote_cell_height": 81
   },
   "source": "grade2 = calcgrades2(66)",
   "execution_count": null,
   "outputs": []
  },
  {
   "cell_type": "code",
   "metadata": {
    "cell_id": "325422b2-721c-41e2-84a3-a7269d37f184",
    "tags": [],
    "deepnote_to_be_reexecuted": false,
    "source_hash": "69e2bcdc",
    "execution_start": 1647363966305,
    "execution_millis": 2,
    "deepnote_cell_type": "code",
    "deepnote_cell_height": 81
   },
   "source": "f = lambda x: 2*x**2 -5*x +2",
   "execution_count": null,
   "outputs": []
  },
  {
   "cell_type": "code",
   "metadata": {
    "cell_id": "86524f20-dd96-467e-813e-5b880cdb7387",
    "tags": [],
    "deepnote_to_be_reexecuted": false,
    "source_hash": "bc780290",
    "execution_start": 1647363980946,
    "execution_millis": 0,
    "deepnote_cell_type": "code",
    "deepnote_cell_height": 111.6875
   },
   "source": "print(f(34))",
   "execution_count": null,
   "outputs": [
    {
     "name": "stdout",
     "text": "2144\n",
     "output_type": "stream"
    }
   ]
  },
  {
   "cell_type": "code",
   "metadata": {
    "cell_id": "cd7a91f1-f3be-45f8-ab5b-e0a0d944275e",
    "tags": [],
    "deepnote_to_be_reexecuted": false,
    "source_hash": "ff143fe",
    "execution_start": 1647364559994,
    "execution_millis": 3,
    "deepnote_cell_type": "code",
    "deepnote_cell_height": 81
   },
   "source": "import math",
   "execution_count": null,
   "outputs": []
  },
  {
   "cell_type": "code",
   "metadata": {
    "cell_id": "8eeaa1ba-ba59-4f39-b5e8-a477bc0e150c",
    "tags": [],
    "deepnote_to_be_reexecuted": false,
    "source_hash": "d793959",
    "execution_start": 1647364676529,
    "execution_millis": 10,
    "deepnote_cell_type": "code",
    "deepnote_cell_height": 708,
    "deepnote_output_heights": [
     611
    ]
   },
   "source": "dir(math)",
   "execution_count": null,
   "outputs": [
    {
     "output_type": "execute_result",
     "execution_count": 39,
     "data": {
      "text/plain": "['__doc__',\n '__file__',\n '__loader__',\n '__name__',\n '__package__',\n '__spec__',\n 'acos',\n 'acosh',\n 'asin',\n 'asinh',\n 'atan',\n 'atan2',\n 'atanh',\n 'ceil',\n 'copysign',\n 'cos',\n 'cosh',\n 'degrees',\n 'e',\n 'erf',\n 'erfc',\n 'exp',\n 'expm1',\n 'fabs',\n 'factorial',\n 'floor',\n 'fmod',\n 'frexp',\n 'fsum',\n 'gamma',\n 'gcd',\n 'hypot',\n 'inf',\n 'isclose',\n 'isfinite',\n 'isinf',\n 'isnan',\n 'ldexp',\n 'lgamma',\n 'log',\n 'log10',\n 'log1p',\n 'log2',\n 'modf',\n 'nan',\n 'pi',\n 'pow',\n 'radians',\n 'remainder',\n 'sin',\n 'sinh',\n 'sqrt',\n 'tan',\n 'tanh',\n 'tau',\n 'trunc']"
     },
     "metadata": {}
    }
   ]
  },
  {
   "cell_type": "code",
   "metadata": {
    "cell_id": "73025d0d-c910-4686-b318-73022acab13b",
    "tags": [],
    "deepnote_to_be_reexecuted": false,
    "source_hash": "bcee9ece",
    "execution_start": 1647364720445,
    "execution_millis": 2,
    "deepnote_cell_type": "code",
    "deepnote_cell_height": 118.1875,
    "deepnote_output_heights": [
     21.1875
    ]
   },
   "source": "math.sqrt(25)",
   "execution_count": null,
   "outputs": [
    {
     "output_type": "execute_result",
     "execution_count": 40,
     "data": {
      "text/plain": "5.0"
     },
     "metadata": {}
    }
   ]
  },
  {
   "cell_type": "code",
   "metadata": {
    "cell_id": "fcef8685-02fa-45f7-9c81-2305bf412f68",
    "tags": [],
    "deepnote_to_be_reexecuted": false,
    "source_hash": "51d6e80d",
    "execution_start": 1647364785033,
    "execution_millis": 14,
    "deepnote_cell_type": "code",
    "deepnote_cell_height": 118.1875,
    "deepnote_output_heights": [
     21.1875
    ]
   },
   "source": "math.cos(90)",
   "execution_count": null,
   "outputs": [
    {
     "output_type": "execute_result",
     "execution_count": 41,
     "data": {
      "text/plain": "-0.4480736161291701"
     },
     "metadata": {}
    }
   ]
  },
  {
   "cell_type": "code",
   "metadata": {
    "cell_id": "306de388-6909-43e3-a5e9-6d0c5ec88628",
    "tags": [],
    "deepnote_to_be_reexecuted": false,
    "source_hash": "4acf94fa",
    "execution_start": 1647364805101,
    "execution_millis": 9,
    "deepnote_cell_type": "code",
    "deepnote_cell_height": 118.1875,
    "deepnote_output_heights": [
     21.1875
    ]
   },
   "source": "math.cos(math.radians(90))",
   "execution_count": null,
   "outputs": [
    {
     "output_type": "execute_result",
     "execution_count": 42,
     "data": {
      "text/plain": "6.123233995736766e-17"
     },
     "metadata": {}
    }
   ]
  },
  {
   "cell_type": "code",
   "metadata": {
    "cell_id": "a96302e8-14fe-462e-9649-ac926c638546",
    "tags": [],
    "deepnote_to_be_reexecuted": false,
    "source_hash": "46add991",
    "execution_start": 1647364821090,
    "execution_millis": 5,
    "deepnote_cell_type": "code",
    "deepnote_cell_height": 118.1875,
    "deepnote_output_heights": [
     21.1875
    ]
   },
   "source": "math.radians(90)",
   "execution_count": null,
   "outputs": [
    {
     "output_type": "execute_result",
     "execution_count": 43,
     "data": {
      "text/plain": "1.5707963267948966"
     },
     "metadata": {}
    }
   ]
  },
  {
   "cell_type": "code",
   "metadata": {
    "cell_id": "dd014b9a-1d81-4a09-be40-57c7b11c5fce",
    "tags": [],
    "deepnote_to_be_reexecuted": false,
    "source_hash": "f30666cf",
    "execution_start": 1647364862990,
    "execution_millis": 10,
    "deepnote_cell_type": "code",
    "deepnote_cell_height": 144.1875
   },
   "source": "math.sqrt(-25)",
   "execution_count": null,
   "outputs": [
    {
     "output_type": "error",
     "ename": "ValueError",
     "evalue": "math domain error",
     "traceback": [
      "\u001b[0;31m---------------------------------------------------------------------------\u001b[0m",
      "\u001b[0;31mValueError\u001b[0m                                Traceback (most recent call last)",
      "\u001b[0;32m<ipython-input-44-d80dea1ee982>\u001b[0m in \u001b[0;36m<module>\u001b[0;34m\u001b[0m\n\u001b[0;32m----> 1\u001b[0;31m \u001b[0mmath\u001b[0m\u001b[0;34m.\u001b[0m\u001b[0msqrt\u001b[0m\u001b[0;34m(\u001b[0m\u001b[0;34m-\u001b[0m\u001b[0;36m25\u001b[0m\u001b[0;34m)\u001b[0m\u001b[0;34m\u001b[0m\u001b[0;34m\u001b[0m\u001b[0m\n\u001b[0m",
      "\u001b[0;31mValueError\u001b[0m: math domain error"
     ]
    }
   ]
  },
  {
   "cell_type": "code",
   "metadata": {
    "cell_id": "faad659f-64d9-4cc6-be8f-97fddfb20cf0",
    "tags": [],
    "deepnote_to_be_reexecuted": false,
    "source_hash": "3731edce",
    "execution_start": 1647364874916,
    "execution_millis": 3,
    "deepnote_cell_type": "code",
    "deepnote_cell_height": 99
   },
   "source": "import cmath\n",
   "execution_count": null,
   "outputs": []
  },
  {
   "cell_type": "code",
   "metadata": {
    "cell_id": "2096d28f-afff-402f-8a91-a6c8b7abfddd",
    "tags": [],
    "deepnote_to_be_reexecuted": false,
    "source_hash": "d793959",
    "execution_start": 1647364886349,
    "execution_millis": 1,
    "deepnote_cell_type": "code",
    "deepnote_cell_height": 708,
    "deepnote_output_heights": [
     611
    ]
   },
   "source": "dir(math)",
   "execution_count": null,
   "outputs": [
    {
     "output_type": "execute_result",
     "execution_count": 46,
     "data": {
      "text/plain": "['__doc__',\n '__file__',\n '__loader__',\n '__name__',\n '__package__',\n '__spec__',\n 'acos',\n 'acosh',\n 'asin',\n 'asinh',\n 'atan',\n 'atan2',\n 'atanh',\n 'ceil',\n 'copysign',\n 'cos',\n 'cosh',\n 'degrees',\n 'e',\n 'erf',\n 'erfc',\n 'exp',\n 'expm1',\n 'fabs',\n 'factorial',\n 'floor',\n 'fmod',\n 'frexp',\n 'fsum',\n 'gamma',\n 'gcd',\n 'hypot',\n 'inf',\n 'isclose',\n 'isfinite',\n 'isinf',\n 'isnan',\n 'ldexp',\n 'lgamma',\n 'log',\n 'log10',\n 'log1p',\n 'log2',\n 'modf',\n 'nan',\n 'pi',\n 'pow',\n 'radians',\n 'remainder',\n 'sin',\n 'sinh',\n 'sqrt',\n 'tan',\n 'tanh',\n 'tau',\n 'trunc']"
     },
     "metadata": {}
    }
   ]
  },
  {
   "cell_type": "code",
   "metadata": {
    "cell_id": "b5847510-dfe3-4d2c-a021-ed20d21ee953",
    "tags": [],
    "deepnote_to_be_reexecuted": false,
    "source_hash": "34b9bab6",
    "execution_start": 1647364931716,
    "execution_millis": 254,
    "deepnote_cell_type": "code",
    "deepnote_cell_height": 118.1875,
    "deepnote_output_heights": [
     21.1875
    ]
   },
   "source": "cmath.sqrt(25)",
   "execution_count": null,
   "outputs": [
    {
     "output_type": "execute_result",
     "execution_count": 47,
     "data": {
      "text/plain": "(5+0j)"
     },
     "metadata": {}
    }
   ]
  },
  {
   "cell_type": "code",
   "metadata": {
    "cell_id": "39bc1b93-a7c2-4fc1-b9c2-201684d85dbd",
    "tags": [],
    "deepnote_to_be_reexecuted": false,
    "source_hash": "33b46581",
    "execution_start": 1647364945612,
    "execution_millis": 249,
    "deepnote_cell_type": "code",
    "deepnote_cell_height": 118.1875,
    "deepnote_output_heights": [
     21.1875
    ]
   },
   "source": "cmath.sqrt(-25)",
   "execution_count": null,
   "outputs": [
    {
     "output_type": "execute_result",
     "execution_count": 48,
     "data": {
      "text/plain": "5j"
     },
     "metadata": {}
    }
   ]
  },
  {
   "cell_type": "code",
   "metadata": {
    "cell_id": "09e247b4-e15e-4851-9c63-41975eecb03f",
    "tags": [],
    "deepnote_to_be_reexecuted": false,
    "source_hash": "17a3ada0",
    "execution_start": 1647439842543,
    "execution_millis": 19,
    "deepnote_cell_type": "code",
    "deepnote_cell_height": 171
   },
   "source": "###Divide the number by the set of numbers from 2 is half of the number\ndef Prime(n):\n    if n % 2:\n        return(True)\n    else:\n        return(False)",
   "execution_count": null,
   "outputs": []
  },
  {
   "cell_type": "code",
   "metadata": {
    "cell_id": "01b9d19f-54cf-492d-9443-8d3164ef793d",
    "tags": [],
    "deepnote_to_be_reexecuted": false,
    "source_hash": "8fe95339",
    "execution_start": 1647439846153,
    "execution_millis": 9,
    "deepnote_cell_type": "code",
    "deepnote_cell_height": 111.6875
   },
   "source": "print(Prime(2))",
   "execution_count": null,
   "outputs": [
    {
     "name": "stdout",
     "text": "False\n",
     "output_type": "stream"
    }
   ]
  },
  {
   "cell_type": "code",
   "metadata": {
    "cell_id": "ee4c43b8-02e6-4faa-a09e-63c038ef76ce",
    "tags": [],
    "deepnote_to_be_reexecuted": false,
    "source_hash": "2db1838d",
    "execution_start": 1647438954272,
    "execution_millis": 1,
    "deepnote_cell_type": "code",
    "deepnote_cell_height": 183.6875
   },
   "source": "n = 24\nif n % 2:\n    print(True)\nelse:\n        print(False)",
   "execution_count": null,
   "outputs": [
    {
     "name": "stdout",
     "text": "False\n",
     "output_type": "stream"
    }
   ]
  },
  {
   "cell_type": "code",
   "metadata": {
    "cell_id": "205d1aeb-78a0-4218-80f3-77ad164c9b91",
    "tags": [],
    "deepnote_to_be_reexecuted": false,
    "source_hash": "21a98725",
    "execution_start": 1647439160907,
    "execution_millis": 1,
    "deepnote_cell_type": "code",
    "deepnote_cell_height": 291.6875
   },
   "source": "num = 23\nPrime = False\nif num >1:\n    for i in range(2, num):\n        if (num % i) == 0:\n            break\nif Prime:\n    print(True)\nelse:\n    print(False)\n",
   "execution_count": null,
   "outputs": [
    {
     "name": "stdout",
     "text": "False\n",
     "output_type": "stream"
    }
   ]
  },
  {
   "cell_type": "code",
   "metadata": {
    "cell_id": "5225851d-8498-4259-b1ac-33ca3ca64708",
    "tags": [],
    "deepnote_to_be_reexecuted": false,
    "source_hash": "19492d84",
    "execution_start": 1647439740881,
    "execution_millis": 3,
    "deepnote_cell_type": "code",
    "deepnote_cell_height": 273.6875
   },
   "source": "num = \nif num > 1:\n    for i in range(2, num):\n        if (num % i) == 0:\n            print(False)\n            break\n    else:\n            print(True)\n\n            ",
   "execution_count": null,
   "outputs": [
    {
     "name": "stdout",
     "text": "True\n",
     "output_type": "stream"
    }
   ]
  },
  {
   "cell_type": "code",
   "metadata": {
    "cell_id": "1c0c1f8e-3e16-4316-be79-88d0f4d2bbe8",
    "tags": [],
    "deepnote_to_be_reexecuted": false,
    "source_hash": "44ae0e9c",
    "execution_start": 1647440943556,
    "execution_millis": 0,
    "deepnote_cell_type": "code",
    "deepnote_cell_height": 171
   },
   "source": "num = 11\ndef Prime(n):\n    if n > 1:\n        for i in range(2, n):\n            if(n % i) == 0:\n                print ",
   "execution_count": null,
   "outputs": []
  },
  {
   "cell_type": "code",
   "metadata": {
    "cell_id": "1f5383ef-f3ba-425d-a48a-1b8fc4d09e3e",
    "tags": [],
    "deepnote_cell_type": "code",
    "deepnote_cell_height": 156
   },
   "source": "##print first 100 prime numbers\nstart = 0\nend = 100\nfor num in range(start, end +1:\n    if num >1\n    ",
   "execution_count": null,
   "outputs": []
  },
  {
   "cell_type": "code",
   "metadata": {
    "cell_id": "bcd92250-f88e-4983-8a76-3b8173bb1027",
    "tags": [],
    "deepnote_to_be_reexecuted": false,
    "source_hash": "73315139",
    "execution_start": 1647442780432,
    "execution_millis": 2,
    "deepnote_cell_type": "code",
    "deepnote_cell_height": 311.390625
   },
   "source": "##a = [1,2,1,3,4,5,1,6,7,2,4,8,1,1,1,9,4,2,0]\n##without repitition and length\na = [1,2,1,3,4,5,1,6,7,2,4,8,1,1,1,9,4,2,0]\nunique = (list(set(a)))\nlength = (len(a))\nprint(unique)\nprint(length)\ncount = a.count(1)\n\n\n",
   "execution_count": null,
   "outputs": [
    {
     "name": "stdout",
     "text": "[0, 1, 2, 3, 4, 5, 6, 7, 8, 9]\n19\n",
     "output_type": "stream"
    }
   ]
  },
  {
   "cell_type": "code",
   "metadata": {
    "cell_id": "5607045a-dcbf-4c33-b928-33157065e3fe",
    "tags": [],
    "deepnote_to_be_reexecuted": false,
    "source_hash": "67d97d22",
    "execution_start": 1647443990433,
    "execution_millis": 4,
    "deepnote_cell_type": "code",
    "deepnote_cell_height": 585.890625
   },
   "source": "def isPrime(n):\n    if n == 1:\n        return False\n    if n == 2 or n == 3:\n        return True\n    \n    for i in range(2,int(n/2)+1):\n        if n % i == 0:\n            return False\n    \n    return True\n\n\nprimes = []\ni = 1\nwhile len(primes) < 100:\n    if isPrime(i):\n        primes.append(i)\n    i += 1\nprint(primes)\n\ninterval = 0\nfor i in range(len(primes)-1):\n    if primes[i+1]-primes[i]>=interval:\n        interval=primes[i+1]-primes[i]\nprint(interval)",
   "execution_count": null,
   "outputs": [
    {
     "name": "stdout",
     "text": "[2, 3, 5, 7, 11, 13, 17, 19, 23, 29, 31, 37, 41, 43, 47, 53, 59, 61, 67, 71, 73, 79, 83, 89, 97, 101, 103, 107, 109, 113, 127, 131, 137, 139, 149, 151, 157, 163, 167, 173, 179, 181, 191, 193, 197, 199, 211, 223, 227, 229, 233, 239, 241, 251, 257, 263, 269, 271, 277, 281, 283, 293, 307, 311, 313, 317, 331, 337, 347, 349, 353, 359, 367, 373, 379, 383, 389, 397, 401, 409, 419, 421, 431, 433, 439, 443, 449, 457, 461, 463, 467, 479, 487, 491, 499, 503, 509, 521, 523, 541]\n18\n",
     "output_type": "stream"
    }
   ]
  },
  {
   "cell_type": "code",
   "metadata": {
    "cell_id": "665067a7f1b748c490e1a959d8f86ced",
    "tags": [],
    "deepnote_to_be_reexecuted": false,
    "source_hash": "9fbde4bb",
    "execution_start": 1647965192004,
    "execution_millis": 4376,
    "deepnote_cell_type": "code",
    "deepnote_cell_height": 405.890625
   },
   "source": "income = input()\nprint(f\"Your income is {income}\")\n\nif (income- 365)*(5/100):\n    return(\"The tax(PAYE) is  \")\n\n\n\n\n# else if 110<income<365:\n#     PAYE = income \n#     print(PAYE)\n",
   "execution_count": null,
   "outputs": [
    {
     "name": "stdout",
     "text": "Your income is 23\n",
     "output_type": "stream"
    },
    {
     "output_type": "error",
     "ename": "SyntaxError",
     "evalue": "'return' outside function (<ipython-input-1-4bf34a94b2f5>, line 5)",
     "traceback": [
      "\u001b[0;36m  File \u001b[0;32m\"<ipython-input-1-4bf34a94b2f5>\"\u001b[0;36m, line \u001b[0;32m5\u001b[0m\n\u001b[0;31m    return(\"Your PAYE is \")\u001b[0m\n\u001b[0m    ^\u001b[0m\n\u001b[0;31mSyntaxError\u001b[0m\u001b[0;31m:\u001b[0m 'return' outside function\n"
     ]
    }
   ]
  },
  {
   "cell_type": "code",
   "metadata": {
    "cell_id": "d31fe03cb82943148ac75d1fb9feb2ed",
    "tags": [],
    "deepnote_to_be_reexecuted": false,
    "source_hash": "c833e386",
    "execution_start": 1647953264600,
    "execution_millis": 4375,
    "deepnote_cell_type": "code",
    "deepnote_cell_height": 414.953125
   },
   "source": "num = int(input(\"Enter a number of rows: \"))\nlist = []\n\n\nfor i in range(1,num+1):\n   # list.append([])\n    #list[i].append(1)\n    print(\" #\"* i)",
   "execution_count": null,
   "outputs": [
    {
     "name": "stdout",
     "text": "\n #\n # #\n # # #\n # # # #\n # # # # #\n # # # # # #\n # # # # # # #\n # # # # # # # #\n # # # # # # # # #\n",
     "output_type": "stream"
    }
   ]
  },
  {
   "cell_type": "code",
   "metadata": {
    "cell_id": "b2293a67e86a4cef81f820b88cb57424",
    "tags": [],
    "deepnote_to_be_reexecuted": false,
    "source_hash": "ebb9e863",
    "execution_start": 1647953792515,
    "execution_millis": 2282,
    "deepnote_cell_type": "code",
    "deepnote_cell_height": 406.46875
   },
   "source": "# Reading number of rows\nrow = int(input('Enter how many lines? '))\n\nfor i in range(1,row+1):\n  \n    for j in range(1, row+1-i):\n        print(' ', end=' ')\n    for j in range(i,0,-1):\n        print(j, end=' ')\n    for j in range(2,i+1):\n        print(j, end=' ')\n   \n    print()",
   "execution_count": null,
   "outputs": [
    {
     "name": "stdout",
     "text": "        1 \n      2 1 2 \n    3 2 1 2 3 \n  4 3 2 1 2 3 4 \n5 4 3 2 1 2 3 4 5 \n",
     "output_type": "stream"
    }
   ]
  },
  {
   "cell_type": "code",
   "metadata": {
    "cell_id": "8e3af795774f4d74b5d815c8cf357cd8",
    "tags": [],
    "deepnote_to_be_reexecuted": false,
    "source_hash": "7c0e3f07",
    "execution_start": 1647969414311,
    "execution_millis": 2819,
    "deepnote_cell_type": "code",
    "deepnote_cell_height": 345.6875
   },
   "source": "Income=int(input(\"Please input your chargable income\"))\nif Income<=365:\n    tax=Income*0\nelif Income >365 and Income <475:\n    tax=Income*5\nelif Income >475 and Income <605:\n    tax=Income*10\nelif Income >605 and Income <3605:\n    tax=Income*17.5\nelif Income >3605 and Income <=20000:\n    tax=Income*25\nelse:\n    tax=Income*30\nprint(tax)",
   "execution_count": null,
   "outputs": [
    {
     "name": "stdout",
     "text": "5000\n",
     "output_type": "stream"
    }
   ]
  },
  {
   "cell_type": "code",
   "metadata": {
    "cell_id": "3e0b7c00d0da4e83ade26117da10af51",
    "tags": [],
    "deepnote_to_be_reexecuted": false,
    "source_hash": "bd952740",
    "execution_start": 1648647845145,
    "execution_millis": 5902,
    "deepnote_cell_type": "code",
    "deepnote_cell_height": 435.6875
   },
   "source": "##Algorithm for bisection method\nfrom numpy import*\na = int(input(\"Enter the first limit: \"))\nb = int(input(\"Enter the second limit: \"))\np = (a + b)/2\n\ndef f(x):\n    y = x*x - 4\n    return y\nif f(a)*f(b) < 0 :\n    while abs(f(p))>0.00002:\n        if f(a)*f(p)>0:\n            a = p\n        else:\n            b = p\n        p = (a + b)/2\n    print(\"The root is \", p)\nelse:\n    print(\"The limits are not valid.\")",
   "outputs": [
    {
     "name": "stdout",
     "text": "The limits are not valid.\n",
     "output_type": "stream"
    }
   ],
   "execution_count": null
  },
  {
   "cell_type": "code",
   "metadata": {
    "cell_id": "1ce285c5cc4440cb9778d3a7c0654dda",
    "tags": [],
    "deepnote_cell_type": "code",
    "deepnote_cell_height": 66
   },
   "source": "x = [1, 2, 4, 6, 7, 8, 9, 20]",
   "execution_count": null,
   "outputs": []
  },
  {
   "cell_type": "code",
   "metadata": {
    "cell_id": "e83eecaa801547c6bfbe88a1480604b7",
    "tags": [],
    "deepnote_to_be_reexecuted": false,
    "source_hash": "3fe37e14",
    "execution_start": 1648568484648,
    "execution_millis": 1,
    "deepnote_cell_type": "code",
    "deepnote_cell_height": 357.5625
   },
   "source": "x = [1, 2, 4, 6, 7, 8, 9, 10]\ny = []\nfor i in x:\n    y = (i**2)\n    print(y)\n    \n",
   "execution_count": null,
   "outputs": [
    {
     "name": "stdout",
     "text": "1\n4\n16\n36\n49\n64\n81\n100\n",
     "output_type": "stream"
    }
   ]
  },
  {
   "cell_type": "code",
   "metadata": {
    "cell_id": "778b02e3b83d4508a7896f34f70cad9c",
    "tags": [],
    "deepnote_to_be_reexecuted": false,
    "source_hash": "f30ecc0c",
    "execution_start": 1648568552639,
    "execution_millis": 371,
    "deepnote_cell_type": "code",
    "deepnote_cell_height": 154.1875,
    "deepnote_output_heights": [
     21.1875
    ]
   },
   "source": "x = [1, 2, 4, 6, 7, 8, 9, 10]\ny2= [i**2 for i in x]\ny2",
   "execution_count": null,
   "outputs": [
    {
     "output_type": "execute_result",
     "execution_count": 11,
     "data": {
      "text/plain": "[1, 4, 16, 36, 49, 64, 81, 100]"
     },
     "metadata": {}
    }
   ]
  },
  {
   "cell_type": "code",
   "metadata": {
    "cell_id": "debd5905335f4912b2443c3ee224f36d",
    "tags": [],
    "deepnote_to_be_reexecuted": false,
    "source_hash": "32fa428d",
    "execution_start": 1648568796425,
    "execution_millis": 5,
    "deepnote_cell_type": "code",
    "deepnote_cell_height": 538.09375,
    "deepnote_output_heights": [
     405.09375
    ]
   },
   "source": "x = range(-10,11)\nx = [i/10 for i in x]   ##we do not use 0.1 because the appromiximations are a lot.\nx ##try with 0.1",
   "execution_count": null,
   "outputs": [
    {
     "output_type": "execute_result",
     "execution_count": 12,
     "data": {
      "text/plain": "[-1.0,\n -0.9,\n -0.8,\n -0.7,\n -0.6,\n -0.5,\n -0.4,\n -0.3,\n -0.2,\n -0.1,\n 0.0,\n 0.1,\n 0.2,\n 0.3,\n 0.4,\n 0.5,\n 0.6,\n 0.7,\n 0.8,\n 0.9,\n 1.0]"
     },
     "metadata": {}
    }
   ]
  },
  {
   "cell_type": "code",
   "metadata": {
    "cell_id": "810e3fd318224031847f303952f172dc",
    "tags": [],
    "deepnote_to_be_reexecuted": false,
    "source_hash": "6af13b4c",
    "execution_start": 1648569017724,
    "execution_millis": 0,
    "deepnote_cell_type": "code",
    "deepnote_cell_height": 99
   },
   "source": "y3 = [2*i if i>0 else i**2 for i in x]\n",
   "execution_count": null,
   "outputs": []
  },
  {
   "cell_type": "code",
   "metadata": {
    "cell_id": "f40826fa9f1944979650856118c2aa27",
    "tags": [],
    "deepnote_to_be_reexecuted": false,
    "source_hash": "cf557d4b",
    "execution_start": 1648569004981,
    "execution_millis": 2,
    "deepnote_cell_type": "code",
    "deepnote_cell_height": 81
   },
   "source": "y4 = [i for i in x if i> 0]",
   "execution_count": null,
   "outputs": []
  },
  {
   "cell_type": "code",
   "metadata": {
    "cell_id": "dae648fd22c04f7b8a38c10d3e86b6e9",
    "tags": [],
    "deepnote_to_be_reexecuted": false,
    "source_hash": "f3522584",
    "execution_start": 1648569237790,
    "execution_millis": 5,
    "deepnote_cell_type": "code",
    "deepnote_cell_height": 172.1875,
    "deepnote_output_heights": [
     21.1875
    ]
   },
   "source": "##generator\nk = (i for i in x if i > 0)\nk\n",
   "execution_count": null,
   "outputs": [
    {
     "output_type": "execute_result",
     "execution_count": 20,
     "data": {
      "text/plain": "<generator object <genexpr> at 0x7faae4f6df50>"
     },
     "metadata": {}
    }
   ]
  },
  {
   "cell_type": "code",
   "metadata": {
    "cell_id": "1afceecf8a014aecaaac85e30619bb11",
    "tags": [],
    "deepnote_to_be_reexecuted": false,
    "source_hash": "256d6be1",
    "execution_start": 1648569241554,
    "execution_millis": 229,
    "deepnote_cell_type": "code",
    "deepnote_cell_height": 118.1875,
    "deepnote_output_heights": [
     21.1875
    ]
   },
   "source": "next(k)",
   "execution_count": null,
   "outputs": [
    {
     "output_type": "execute_result",
     "execution_count": 21,
     "data": {
      "text/plain": "0.1"
     },
     "metadata": {}
    }
   ]
  },
  {
   "cell_type": "code",
   "metadata": {
    "cell_id": "536362edb6aa4ca889e4e707ffa0fc5f",
    "tags": [],
    "deepnote_to_be_reexecuted": false,
    "source_hash": "256d6be1",
    "execution_start": 1648569249240,
    "execution_millis": 81,
    "deepnote_cell_type": "code",
    "deepnote_cell_height": 118.1875,
    "deepnote_output_heights": [
     21.1875
    ]
   },
   "source": "next(k)",
   "execution_count": null,
   "outputs": [
    {
     "output_type": "execute_result",
     "execution_count": 22,
     "data": {
      "text/plain": "0.2"
     },
     "metadata": {}
    }
   ]
  },
  {
   "cell_type": "code",
   "metadata": {
    "cell_id": "bc08ba06ba4b414989624162fe0f9114",
    "tags": [],
    "deepnote_to_be_reexecuted": false,
    "source_hash": "451bd74a",
    "execution_start": 1648569370093,
    "execution_millis": 5,
    "deepnote_cell_type": "code",
    "deepnote_cell_height": 324.953125
   },
   "source": "k = (i for i in x if i > 0)\nfor i in k:\n    print(i)",
   "execution_count": null,
   "outputs": [
    {
     "name": "stdout",
     "text": "0.1\n0.2\n0.3\n0.4\n0.5\n0.6\n0.7\n0.8\n0.9\n1.0\n",
     "output_type": "stream"
    }
   ]
  },
  {
   "cell_type": "code",
   "metadata": {
    "cell_id": "6777041a5d554ba783f239df2beae0cc",
    "tags": [],
    "deepnote_to_be_reexecuted": false,
    "source_hash": "ebf482f4",
    "execution_start": 1648569394127,
    "execution_millis": 2,
    "deepnote_cell_type": "code",
    "deepnote_cell_height": 118.1875,
    "deepnote_output_heights": [
     21.1875
    ]
   },
   "source": "range(15)",
   "execution_count": null,
   "outputs": [
    {
     "output_type": "execute_result",
     "execution_count": 28,
     "data": {
      "text/plain": "range(0, 15)"
     },
     "metadata": {}
    }
   ]
  },
  {
   "cell_type": "code",
   "metadata": {
    "cell_id": "81fb7592492e4345baac88f1e4b0b816",
    "tags": [],
    "deepnote_to_be_reexecuted": false,
    "source_hash": "84589f04",
    "execution_start": 1648569479370,
    "execution_millis": 6,
    "deepnote_cell_type": "code",
    "deepnote_cell_height": 118.1875,
    "deepnote_output_heights": [
     21.1875
    ]
   },
   "source": "list(k).__sizeof__()",
   "execution_count": null,
   "outputs": [
    {
     "output_type": "execute_result",
     "execution_count": 32,
     "data": {
      "text/plain": "40"
     },
     "metadata": {}
    }
   ]
  },
  {
   "cell_type": "code",
   "metadata": {
    "cell_id": "cf0917185ff34a9e98f957ad9d4fad77",
    "tags": [],
    "deepnote_to_be_reexecuted": false,
    "source_hash": "cc99c994",
    "execution_start": 1648569657313,
    "execution_millis": 3,
    "deepnote_cell_type": "code",
    "deepnote_cell_height": 81
   },
   "source": "a = [1,2,3,4,5,6,7]",
   "execution_count": null,
   "outputs": []
  },
  {
   "cell_type": "code",
   "metadata": {
    "cell_id": "b514a617711046acb097a64a5b49e277",
    "tags": [],
    "deepnote_to_be_reexecuted": false,
    "source_hash": "6e8f7a90",
    "execution_start": 1648569664611,
    "execution_millis": 6,
    "deepnote_cell_type": "code",
    "deepnote_cell_height": 81
   },
   "source": "b = a",
   "execution_count": null,
   "outputs": []
  },
  {
   "cell_type": "code",
   "metadata": {
    "cell_id": "010766464e4343dd8c5007e871553787",
    "tags": [],
    "deepnote_to_be_reexecuted": false,
    "source_hash": "129d9675",
    "execution_start": 1648569675386,
    "execution_millis": 4,
    "deepnote_cell_type": "code",
    "deepnote_cell_height": 118.1875,
    "deepnote_output_heights": [
     21.1875
    ]
   },
   "source": "b",
   "execution_count": null,
   "outputs": [
    {
     "output_type": "execute_result",
     "execution_count": 35,
     "data": {
      "text/plain": "[1, 2, 3, 4, 5, 6, 7]"
     },
     "metadata": {}
    }
   ]
  },
  {
   "cell_type": "code",
   "metadata": {
    "cell_id": "aea6959689be4605a8afd2de499806c8",
    "tags": [],
    "deepnote_to_be_reexecuted": false,
    "source_hash": "9cdf675",
    "execution_start": 1648569696916,
    "execution_millis": 2,
    "deepnote_cell_type": "code",
    "deepnote_cell_height": 81
   },
   "source": "b[-1] =12",
   "execution_count": null,
   "outputs": []
  },
  {
   "cell_type": "code",
   "metadata": {
    "cell_id": "219dba2e1ec1475696987cf73a4544c2",
    "tags": [],
    "deepnote_to_be_reexecuted": false,
    "source_hash": "129d9675",
    "execution_start": 1648569701912,
    "execution_millis": 4,
    "deepnote_cell_type": "code",
    "deepnote_cell_height": 118.1875,
    "deepnote_output_heights": [
     21.1875
    ]
   },
   "source": "b",
   "execution_count": null,
   "outputs": [
    {
     "output_type": "execute_result",
     "execution_count": 37,
     "data": {
      "text/plain": "[1, 2, 3, 4, 5, 6, 12]"
     },
     "metadata": {}
    }
   ]
  },
  {
   "cell_type": "code",
   "metadata": {
    "cell_id": "0a9f140ced7a40b283030be8df2acdb7",
    "tags": [],
    "deepnote_to_be_reexecuted": false,
    "source_hash": "3fa28bad",
    "execution_start": 1648569957048,
    "execution_millis": 4,
    "deepnote_cell_type": "code",
    "deepnote_cell_height": 99
   },
   "source": "a = [3,5,7,8,9,5,4,]\nb = a.copy()",
   "execution_count": null,
   "outputs": []
  },
  {
   "cell_type": "code",
   "metadata": {
    "cell_id": "c0159c0ef78749658fbb9520a0e7bd49",
    "tags": [],
    "deepnote_to_be_reexecuted": false,
    "source_hash": "129d9675",
    "execution_start": 1648569961540,
    "execution_millis": 4,
    "deepnote_cell_type": "code",
    "deepnote_cell_height": 118.1875,
    "deepnote_output_heights": [
     21.1875
    ]
   },
   "source": "b",
   "execution_count": null,
   "outputs": [
    {
     "output_type": "execute_result",
     "execution_count": 43,
     "data": {
      "text/plain": "[3, 5, 7, 8, 9, 5, 4]"
     },
     "metadata": {}
    }
   ]
  },
  {
   "cell_type": "code",
   "metadata": {
    "cell_id": "62c8abc81ac84cf08b58e789bba22c59",
    "tags": [],
    "deepnote_to_be_reexecuted": false,
    "source_hash": "7c8364df",
    "execution_start": 1648570028344,
    "execution_millis": 2,
    "deepnote_cell_type": "code",
    "deepnote_cell_height": 81
   },
   "source": "f = lambda x: x**2",
   "execution_count": null,
   "outputs": []
  },
  {
   "cell_type": "code",
   "metadata": {
    "cell_id": "895ce17ce7b44fa38bebf243da5efb59",
    "tags": [],
    "deepnote_to_be_reexecuted": false,
    "source_hash": "1e6f6e9d",
    "execution_start": 1648570250193,
    "execution_millis": 3,
    "deepnote_cell_type": "code",
    "deepnote_cell_height": 502.09375,
    "deepnote_output_heights": [
     405.09375
    ]
   },
   "source": "list(map(f,x))",
   "execution_count": null,
   "outputs": [
    {
     "output_type": "execute_result",
     "execution_count": 45,
     "data": {
      "text/plain": "[1.0,\n 0.81,\n 0.6400000000000001,\n 0.48999999999999994,\n 0.36,\n 0.25,\n 0.16000000000000003,\n 0.09,\n 0.04000000000000001,\n 0.010000000000000002,\n 0.0,\n 0.010000000000000002,\n 0.04000000000000001,\n 0.09,\n 0.16000000000000003,\n 0.25,\n 0.36,\n 0.48999999999999994,\n 0.6400000000000001,\n 0.81,\n 1.0]"
     },
     "metadata": {}
    }
   ]
  },
  {
   "cell_type": "code",
   "metadata": {
    "cell_id": "39c032520e014db98802697d4c9a1783",
    "tags": [],
    "deepnote_to_be_reexecuted": false,
    "source_hash": "fa19f21c",
    "execution_start": 1648570385517,
    "execution_millis": 7,
    "deepnote_cell_type": "code",
    "deepnote_cell_height": 99,
    "deepnote_output_heights": [
     385.90625
    ]
   },
   "source": "f2 = lambda x: x>0\n",
   "execution_count": null,
   "outputs": []
  },
  {
   "cell_type": "code",
   "metadata": {
    "cell_id": "6de00e93f16c495d91c70b9eb5162fa0",
    "tags": [],
    "deepnote_to_be_reexecuted": false,
    "source_hash": "5a7b93b",
    "execution_start": 1648570396318,
    "execution_millis": 4,
    "deepnote_cell_type": "code",
    "deepnote_cell_height": 118.1875,
    "deepnote_output_heights": [
     21.1875
    ]
   },
   "source": "f2(2)",
   "execution_count": null,
   "outputs": [
    {
     "output_type": "execute_result",
     "execution_count": 48,
     "data": {
      "text/plain": "True"
     },
     "metadata": {}
    }
   ]
  },
  {
   "cell_type": "code",
   "metadata": {
    "cell_id": "e7eb5c79a3674983b56c1a73587ac3d7",
    "tags": [],
    "deepnote_to_be_reexecuted": false,
    "source_hash": "d38f8117",
    "execution_start": 1648570435621,
    "execution_millis": 10,
    "deepnote_cell_type": "code",
    "deepnote_cell_height": 118.1875,
    "deepnote_output_heights": [
     21.1875
    ]
   },
   "source": "f2(0)",
   "execution_count": null,
   "outputs": [
    {
     "output_type": "execute_result",
     "execution_count": 49,
     "data": {
      "text/plain": "False"
     },
     "metadata": {}
    }
   ]
  },
  {
   "cell_type": "code",
   "metadata": {
    "cell_id": "9e23a51b2c614770a9a614c00b9090cb",
    "tags": [],
    "deepnote_to_be_reexecuted": false,
    "source_hash": "29fc55ea",
    "execution_start": 1648570445419,
    "execution_millis": 3,
    "deepnote_cell_type": "code",
    "deepnote_cell_height": 118.1875,
    "deepnote_output_heights": [
     21.1875
    ]
   },
   "source": "f2(-2)",
   "execution_count": null,
   "outputs": [
    {
     "output_type": "execute_result",
     "execution_count": 50,
     "data": {
      "text/plain": "False"
     },
     "metadata": {}
    }
   ]
  },
  {
   "cell_type": "code",
   "metadata": {
    "cell_id": "8814a5b343c440c9a0491b51c5870cbe",
    "tags": [],
    "deepnote_to_be_reexecuted": false,
    "source_hash": "dd7eb61b",
    "execution_start": 1648570504680,
    "execution_millis": 4,
    "deepnote_cell_type": "code",
    "deepnote_cell_height": 520.09375,
    "deepnote_output_heights": [
     405.09375
    ]
   },
   "source": "list(map(f2,x))\n",
   "execution_count": null,
   "outputs": [
    {
     "output_type": "execute_result",
     "execution_count": 53,
     "data": {
      "text/plain": "[False,\n False,\n False,\n False,\n False,\n False,\n False,\n False,\n False,\n False,\n False,\n True,\n True,\n True,\n True,\n True,\n True,\n True,\n True,\n True,\n True]"
     },
     "metadata": {}
    }
   ]
  },
  {
   "cell_type": "code",
   "metadata": {
    "cell_id": "a095fd8515354fed843000a4c85b195b",
    "tags": [],
    "deepnote_to_be_reexecuted": false,
    "source_hash": "1488ae40",
    "execution_start": 1648570654352,
    "execution_millis": 71,
    "deepnote_cell_type": "code",
    "deepnote_cell_height": 136.1875,
    "deepnote_output_heights": [
     21.1875
    ]
   },
   "source": "list(filter(f2,x))\n",
   "execution_count": null,
   "outputs": [
    {
     "output_type": "execute_result",
     "execution_count": 54,
     "data": {
      "text/plain": "[0.1, 0.2, 0.3, 0.4, 0.5, 0.6, 0.7, 0.8, 0.9, 1.0]"
     },
     "metadata": {}
    }
   ]
  },
  {
   "cell_type": "code",
   "metadata": {
    "cell_id": "8d2b2d9430fc4dd591096de09cccb6c0",
    "tags": [],
    "deepnote_to_be_reexecuted": false,
    "source_hash": "53b24c02",
    "execution_start": 1648570928829,
    "execution_millis": 5,
    "deepnote_cell_type": "code",
    "deepnote_cell_height": 117
   },
   "source": "from functools import reduce\nf3 = lambda x,y: x*y  \n",
   "execution_count": null,
   "outputs": []
  },
  {
   "cell_type": "code",
   "metadata": {
    "cell_id": "b31da94d5388452a98e8c0f7112929af",
    "tags": [],
    "deepnote_to_be_reexecuted": false,
    "source_hash": "90257c10",
    "execution_start": 1648571095352,
    "execution_millis": 150,
    "deepnote_cell_type": "code",
    "deepnote_cell_height": 136.1875,
    "deepnote_output_heights": [
     21.1875
    ]
   },
   "source": "reduce(f3, x[:x.index(0)]+x[x.index(0)+1:])\n##from -1 to 1 taking 0 out",
   "execution_count": null,
   "outputs": [
    {
     "output_type": "execute_result",
     "execution_count": 59,
     "data": {
      "text/plain": "1.3168189440000007e-07"
     },
     "metadata": {}
    }
   ]
  },
  {
   "cell_type": "code",
   "metadata": {
    "cell_id": "05c30f4bdfb84ce7a18118b8ede0c28e",
    "tags": [],
    "deepnote_to_be_reexecuted": false,
    "source_hash": "977aebda",
    "execution_start": 1648571764682,
    "execution_millis": 2,
    "deepnote_cell_type": "code",
    "deepnote_cell_height": 190.1875,
    "deepnote_output_heights": [
     21.1875
    ]
   },
   "source": "##or\nagg = 1\nfor i in x[:x.index(0)]+x[x.index(0)+1:]:\n    agg *=i\nagg",
   "execution_count": null,
   "outputs": [
    {
     "output_type": "execute_result",
     "execution_count": 64,
     "data": {
      "text/plain": "1.3168189440000007e-07"
     },
     "metadata": {}
    }
   ]
  },
  {
   "cell_type": "code",
   "metadata": {
    "cell_id": "e15a79f9c1c14a1495a77ccd233b23b1",
    "tags": [],
    "deepnote_to_be_reexecuted": false,
    "source_hash": "9fccb439",
    "execution_start": 1648572641469,
    "execution_millis": 1,
    "deepnote_cell_type": "code",
    "deepnote_cell_height": 183.6875
   },
   "source": "\n\n\n\n",
   "execution_count": null,
   "outputs": [
    {
     "name": "stdout",
     "text": "5.5\n",
     "output_type": "stream"
    }
   ]
  },
  {
   "cell_type": "code",
   "metadata": {
    "cell_id": "299666a3daf74b5981ffaf401e99bafe",
    "tags": [],
    "deepnote_to_be_reexecuted": false,
    "source_hash": "21bea207",
    "execution_start": 1648573166885,
    "execution_millis": 60,
    "deepnote_cell_type": "code",
    "deepnote_cell_height": 219.6875,
    "deepnote_output_heights": [
     21.1875
    ]
   },
   "source": "h = 0.1\nx = range(51)\nx = [i*h for i in x]\nf = lambda x: x**2\n\ny = map(f, x)\nprint(y)",
   "execution_count": null,
   "outputs": [
    {
     "name": "stdout",
     "text": "<map object at 0x7faae34b9550>\n",
     "output_type": "stream"
    }
   ]
  },
  {
   "cell_type": "code",
   "metadata": {
    "cell_id": "70ad0883a2b94a16a4c23df3ecb1b33e",
    "tags": [],
    "deepnote_to_be_reexecuted": false,
    "source_hash": "362b7001",
    "execution_start": 1648573290416,
    "execution_millis": 0,
    "deepnote_cell_type": "code",
    "deepnote_cell_height": 81
   },
   "source": "h = 0.1",
   "execution_count": null,
   "outputs": []
  },
  {
   "cell_type": "code",
   "metadata": {
    "cell_id": "fef01206d6d84a5280cbbd3db10f4aea",
    "tags": [],
    "deepnote_to_be_reexecuted": false,
    "source_hash": "3340cec7",
    "execution_start": 1648573760090,
    "execution_millis": 67,
    "deepnote_cell_type": "code",
    "deepnote_cell_height": 244.1875,
    "deepnote_output_heights": [
     21.1875
    ]
   },
   "source": "###integration\nh = 0.0001\na, b = 0,5\nx = range(int((b-a)/h)+1)\nx = [a +i*h for i in x]\nf = lambda x :x**2\ny = list(map(f,x))\nh*reduce(lambda x,y: x+y , y[:-1])",
   "execution_count": null,
   "outputs": [
    {
     "output_type": "execute_result",
     "execution_count": 76,
     "data": {
      "text/plain": "41.66541667500009"
     },
     "metadata": {}
    }
   ]
  },
  {
   "cell_type": "code",
   "source": "",
   "metadata": {
    "cell_id": "9c55be30780e41cf953ad874069dd7a4",
    "tags": [],
    "deepnote_cell_type": "code",
    "deepnote_cell_height": 66
   },
   "outputs": [],
   "execution_count": null
  },
  {
   "cell_type": "markdown",
   "source": "<a style='text-decoration:none;line-height:16px;display:flex;color:#5B5B62;padding:10px;justify-content:end;' href='https://deepnote.com?utm_source=created-in-deepnote-cell&projectId=30d18d2f-9eb2-4198-9d0b-4301362f37e2' target=\"_blank\">\n<img alt='Created in deepnote.com' style='display:inline;max-height:16px;margin:0px;margin-right:7.5px;' src='data:image/svg+xml;base64,PD94bWwgdmVyc2lvbj0iMS4wIiBlbmNvZGluZz0iVVRGLTgiPz4KPHN2ZyB3aWR0aD0iODBweCIgaGVpZ2h0PSI4MHB4IiB2aWV3Qm94PSIwIDAgODAgODAiIHZlcnNpb249IjEuMSIgeG1sbnM9Imh0dHA6Ly93d3cudzMub3JnLzIwMDAvc3ZnIiB4bWxuczp4bGluaz0iaHR0cDovL3d3dy53My5vcmcvMTk5OS94bGluayI+CiAgICA8IS0tIEdlbmVyYXRvcjogU2tldGNoIDU0LjEgKDc2NDkwKSAtIGh0dHBzOi8vc2tldGNoYXBwLmNvbSAtLT4KICAgIDx0aXRsZT5Hcm91cCAzPC90aXRsZT4KICAgIDxkZXNjPkNyZWF0ZWQgd2l0aCBTa2V0Y2guPC9kZXNjPgogICAgPGcgaWQ9IkxhbmRpbmciIHN0cm9rZT0ibm9uZSIgc3Ryb2tlLXdpZHRoPSIxIiBmaWxsPSJub25lIiBmaWxsLXJ1bGU9ImV2ZW5vZGQiPgogICAgICAgIDxnIGlkPSJBcnRib2FyZCIgdHJhbnNmb3JtPSJ0cmFuc2xhdGUoLTEyMzUuMDAwMDAwLCAtNzkuMDAwMDAwKSI+CiAgICAgICAgICAgIDxnIGlkPSJHcm91cC0zIiB0cmFuc2Zvcm09InRyYW5zbGF0ZSgxMjM1LjAwMDAwMCwgNzkuMDAwMDAwKSI+CiAgICAgICAgICAgICAgICA8cG9seWdvbiBpZD0iUGF0aC0yMCIgZmlsbD0iIzAyNjVCNCIgcG9pbnRzPSIyLjM3NjIzNzYyIDgwIDM4LjA0NzY2NjcgODAgNTcuODIxNzgyMiA3My44MDU3NTkyIDU3LjgyMTc4MjIgMzIuNzU5MjczOSAzOS4xNDAyMjc4IDMxLjY4MzE2ODMiPjwvcG9seWdvbj4KICAgICAgICAgICAgICAgIDxwYXRoIGQ9Ik0zNS4wMDc3MTgsODAgQzQyLjkwNjIwMDcsNzYuNDU0OTM1OCA0Ny41NjQ5MTY3LDcxLjU0MjI2NzEgNDguOTgzODY2LDY1LjI2MTk5MzkgQzUxLjExMjI4OTksNTUuODQxNTg0MiA0MS42NzcxNzk1LDQ5LjIxMjIyODQgMjUuNjIzOTg0Niw0OS4yMTIyMjg0IEMyNS40ODQ5Mjg5LDQ5LjEyNjg0NDggMjkuODI2MTI5Niw0My4yODM4MjQ4IDM4LjY0NzU4NjksMzEuNjgzMTY4MyBMNzIuODcxMjg3MSwzMi41NTQ0MjUgTDY1LjI4MDk3Myw2Ny42NzYzNDIxIEw1MS4xMTIyODk5LDc3LjM3NjE0NCBMMzUuMDA3NzE4LDgwIFoiIGlkPSJQYXRoLTIyIiBmaWxsPSIjMDAyODY4Ij48L3BhdGg+CiAgICAgICAgICAgICAgICA8cGF0aCBkPSJNMCwzNy43MzA0NDA1IEwyNy4xMTQ1MzcsMC4yNTcxMTE0MzYgQzYyLjM3MTUxMjMsLTEuOTkwNzE3MDEgODAsMTAuNTAwMzkyNyA4MCwzNy43MzA0NDA1IEM4MCw2NC45NjA0ODgyIDY0Ljc3NjUwMzgsNzkuMDUwMzQxNCAzNC4zMjk1MTEzLDgwIEM0Ny4wNTUzNDg5LDc3LjU2NzA4MDggNTMuNDE4MjY3Nyw3MC4zMTM2MTAzIDUzLjQxODI2NzcsNTguMjM5NTg4NSBDNTMuNDE4MjY3Nyw0MC4xMjg1NTU3IDM2LjMwMzk1NDQsMzcuNzMwNDQwNSAyNS4yMjc0MTcsMzcuNzMwNDQwNSBDMTcuODQzMDU4NiwzNy43MzA0NDA1IDkuNDMzOTE5NjYsMzcuNzMwNDQwNSAwLDM3LjczMDQ0MDUgWiIgaWQ9IlBhdGgtMTkiIGZpbGw9IiMzNzkzRUYiPjwvcGF0aD4KICAgICAgICAgICAgPC9nPgogICAgICAgIDwvZz4KICAgIDwvZz4KPC9zdmc+' > </img>\nCreated in <span style='font-weight:600;margin-left:4px;'>Deepnote</span></a>",
   "metadata": {
    "tags": [],
    "created_in_deepnote_cell": true,
    "deepnote_cell_type": "markdown"
   }
  }
 ],
 "nbformat": 4,
 "nbformat_minor": 2,
 "metadata": {
  "orig_nbformat": 2,
  "deepnote": {
   "is_reactive": false
  },
  "deepnote_notebook_id": "a00cfc2e-73cd-4930-9f8f-829fad98c325",
  "deepnote_execution_queue": []
 }
}