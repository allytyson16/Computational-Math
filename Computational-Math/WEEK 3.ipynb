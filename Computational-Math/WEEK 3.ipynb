{
 "cells": [
  {
   "cell_type": "code",
   "source": "# 80-100 A \n# 75-79 B+\n# 74-70 B \n# 69-65 C+\n# 64-60 C  \n# 59-55 D+\n# 54-50 D \n# 49-45 E \n# 44-0 F\n\na = 78\nif a <= 100 and a >= 80:\n    print(\"A\")\nelif a <=79 and a >= 75:\n    print(\"B+\")\nelif a <= 74 and a >= 70:\n    print(\"B\")\nelif a <= 69 and a >= 65:\n    print(\"C+\")\nelif a <= 64 and a >= 60:\n    print(\"C\")\nelif a <= 59 and a >= 55:\n    print(\"D+\")\nelif a <= 54 and a >= 50:\n    print(\"D\")\nelif a <= 49 and a >= 45:\n    print(\"E\")\nelse:\n    print(\"F\")\n\n\n\n",
   "metadata": {
    "cell_id": "25da4fb4-b4df-40df-927a-78279310da0a",
    "tags": [],
    "deepnote_to_be_reexecuted": false,
    "source_hash": "fd1da9f4",
    "execution_start": 1647362547097,
    "execution_millis": 26,
    "deepnote_cell_type": "code",
    "deepnote_cell_height": 687.6875
   },
   "outputs": [
    {
     "name": "stdout",
     "text": "B+\n",
     "output_type": "stream"
    }
   ],
   "execution_count": 1
  },
  {
   "cell_type": "code",
   "source": "####OR\ngrades = [\"F\", \"E\",\"D\", \"D+\",\"C\", \"C+\",\"B\", \"B+\",\"A\" ]\na = 78\na = (int(a/5))\na = max(min(a,16),8)-8\nprint(grades[a])",
   "metadata": {
    "cell_id": "115b8dcf-c5ed-413e-9ebe-0752c8b3a5cb",
    "tags": [],
    "deepnote_to_be_reexecuted": false,
    "source_hash": "3c0c7750",
    "execution_start": 1647363284002,
    "execution_millis": 14,
    "deepnote_cell_type": "code",
    "deepnote_cell_height": 201.6875
   },
   "outputs": [
    {
     "name": "stdout",
     "text": "B+\n",
     "output_type": "stream"
    }
   ],
   "execution_count": 10
  },
  {
   "cell_type": "code",
   "source": "###def function\ndef calcgrades(a):\n    grades = [\"F\", \"E\",\"D\", \"D+\",\"C\", \"C+\",\"B\", \"B+\",\"A\" ]\n    a = 78\n    a = (int(a/5))\n    a = max(min(a,16),8)-8\n    print(grades[a])\n",
   "metadata": {
    "cell_id": "9e2fe853-b96d-4638-a384-708d9d14c377",
    "tags": [],
    "deepnote_to_be_reexecuted": false,
    "source_hash": "700649f1",
    "execution_start": 1647363717494,
    "execution_millis": 40,
    "deepnote_cell_type": "code",
    "deepnote_cell_height": 237.6875
   },
   "outputs": [
    {
     "name": "stdout",
     "text": "B+\n",
     "output_type": "stream"
    }
   ],
   "execution_count": 22
  },
  {
   "cell_type": "code",
   "source": "grade1 = calcgrades(a)",
   "metadata": {
    "cell_id": "d03bde1d-f6bf-446b-bc0a-6fb691eb5ea8",
    "tags": [],
    "deepnote_to_be_reexecuted": false,
    "source_hash": "e08a58d2",
    "execution_start": 1647363555801,
    "execution_millis": 4,
    "deepnote_cell_type": "code",
    "deepnote_cell_height": 81
   },
   "outputs": [],
   "execution_count": 18
  },
  {
   "cell_type": "code",
   "source": "grade2 = calcgrades(66)",
   "metadata": {
    "cell_id": "d667a123-594a-476f-adc0-bcc41a9f5bac",
    "tags": [],
    "deepnote_to_be_reexecuted": false,
    "source_hash": "f8dd8ea0",
    "execution_start": 1647363833065,
    "execution_millis": 0,
    "deepnote_cell_type": "code",
    "deepnote_cell_height": 81
   },
   "outputs": [],
   "execution_count": 27
  },
  {
   "cell_type": "code",
   "source": "def calcgrades2(a):\n    grades = [\"F\", \"E\",\"D\", \"D+\",\"C\", \"C+\",\"B\", \"B+\",\"A\" ]\n    a = (int(a/5))\n    a = max(min(a,16),8)-8\n    return grades[a]",
   "metadata": {
    "cell_id": "a07a4a4c-2681-445e-9453-7cd0cde75f86",
    "tags": [],
    "deepnote_to_be_reexecuted": false,
    "source_hash": "8f6c7d69",
    "execution_start": 1647363829840,
    "execution_millis": 4,
    "deepnote_cell_type": "code",
    "deepnote_cell_height": 153
   },
   "outputs": [],
   "execution_count": 26
  },
  {
   "cell_type": "code",
   "source": "grade2 = calcgrades2(66)",
   "metadata": {
    "cell_id": "2fcb8664-5d42-4817-86b1-31842ed2dfa0",
    "tags": [],
    "deepnote_to_be_reexecuted": false,
    "source_hash": "a3755493",
    "execution_start": 1647363861067,
    "execution_millis": 2,
    "deepnote_cell_type": "code",
    "deepnote_cell_height": 81
   },
   "outputs": [],
   "execution_count": 29
  },
  {
   "cell_type": "code",
   "source": "f = lambda x: 2*x**2 -5*x +2",
   "metadata": {
    "cell_id": "325422b2-721c-41e2-84a3-a7269d37f184",
    "tags": [],
    "deepnote_to_be_reexecuted": false,
    "source_hash": "69e2bcdc",
    "execution_start": 1647363966305,
    "execution_millis": 2,
    "deepnote_cell_type": "code",
    "deepnote_cell_height": 81
   },
   "outputs": [],
   "execution_count": 30
  },
  {
   "cell_type": "code",
   "source": "print(f(34))",
   "metadata": {
    "cell_id": "86524f20-dd96-467e-813e-5b880cdb7387",
    "tags": [],
    "deepnote_to_be_reexecuted": false,
    "source_hash": "bc780290",
    "execution_start": 1647363980946,
    "execution_millis": 0,
    "deepnote_cell_type": "code",
    "deepnote_cell_height": 111.6875
   },
   "outputs": [
    {
     "name": "stdout",
     "text": "2144\n",
     "output_type": "stream"
    }
   ],
   "execution_count": 31
  },
  {
   "cell_type": "code",
   "source": "import math",
   "metadata": {
    "cell_id": "cd7a91f1-f3be-45f8-ab5b-e0a0d944275e",
    "tags": [],
    "deepnote_to_be_reexecuted": false,
    "source_hash": "ff143fe",
    "execution_start": 1647364559994,
    "execution_millis": 3,
    "deepnote_cell_type": "code",
    "deepnote_cell_height": 81
   },
   "outputs": [],
   "execution_count": 37
  },
  {
   "cell_type": "code",
   "source": "dir(math)",
   "metadata": {
    "cell_id": "8eeaa1ba-ba59-4f39-b5e8-a477bc0e150c",
    "tags": [],
    "deepnote_to_be_reexecuted": false,
    "source_hash": "d793959",
    "execution_start": 1647364676529,
    "execution_millis": 10,
    "deepnote_cell_type": "code",
    "deepnote_cell_height": 708,
    "deepnote_output_heights": [
     611
    ]
   },
   "outputs": [
    {
     "output_type": "execute_result",
     "execution_count": 39,
     "data": {
      "text/plain": "['__doc__',\n '__file__',\n '__loader__',\n '__name__',\n '__package__',\n '__spec__',\n 'acos',\n 'acosh',\n 'asin',\n 'asinh',\n 'atan',\n 'atan2',\n 'atanh',\n 'ceil',\n 'copysign',\n 'cos',\n 'cosh',\n 'degrees',\n 'e',\n 'erf',\n 'erfc',\n 'exp',\n 'expm1',\n 'fabs',\n 'factorial',\n 'floor',\n 'fmod',\n 'frexp',\n 'fsum',\n 'gamma',\n 'gcd',\n 'hypot',\n 'inf',\n 'isclose',\n 'isfinite',\n 'isinf',\n 'isnan',\n 'ldexp',\n 'lgamma',\n 'log',\n 'log10',\n 'log1p',\n 'log2',\n 'modf',\n 'nan',\n 'pi',\n 'pow',\n 'radians',\n 'remainder',\n 'sin',\n 'sinh',\n 'sqrt',\n 'tan',\n 'tanh',\n 'tau',\n 'trunc']"
     },
     "metadata": {}
    }
   ],
   "execution_count": 39
  },
  {
   "cell_type": "code",
   "source": "math.sqrt(25)",
   "metadata": {
    "cell_id": "73025d0d-c910-4686-b318-73022acab13b",
    "tags": [],
    "deepnote_to_be_reexecuted": false,
    "source_hash": "bcee9ece",
    "execution_start": 1647364720445,
    "execution_millis": 2,
    "deepnote_cell_type": "code",
    "deepnote_cell_height": 118.1875,
    "deepnote_output_heights": [
     21.1875
    ]
   },
   "outputs": [
    {
     "output_type": "execute_result",
     "execution_count": 40,
     "data": {
      "text/plain": "5.0"
     },
     "metadata": {}
    }
   ],
   "execution_count": 40
  },
  {
   "cell_type": "code",
   "source": "math.cos(90)",
   "metadata": {
    "cell_id": "fcef8685-02fa-45f7-9c81-2305bf412f68",
    "tags": [],
    "deepnote_to_be_reexecuted": false,
    "source_hash": "51d6e80d",
    "execution_start": 1647364785033,
    "execution_millis": 14,
    "deepnote_cell_type": "code",
    "deepnote_cell_height": 118.1875,
    "deepnote_output_heights": [
     21.1875
    ]
   },
   "outputs": [
    {
     "output_type": "execute_result",
     "execution_count": 41,
     "data": {
      "text/plain": "-0.4480736161291701"
     },
     "metadata": {}
    }
   ],
   "execution_count": 41
  },
  {
   "cell_type": "code",
   "source": "math.cos(math.radians(90))",
   "metadata": {
    "cell_id": "306de388-6909-43e3-a5e9-6d0c5ec88628",
    "tags": [],
    "deepnote_to_be_reexecuted": false,
    "source_hash": "4acf94fa",
    "execution_start": 1647364805101,
    "execution_millis": 9,
    "deepnote_cell_type": "code",
    "deepnote_cell_height": 118.1875,
    "deepnote_output_heights": [
     21.1875
    ]
   },
   "outputs": [
    {
     "output_type": "execute_result",
     "execution_count": 42,
     "data": {
      "text/plain": "6.123233995736766e-17"
     },
     "metadata": {}
    }
   ],
   "execution_count": 42
  },
  {
   "cell_type": "code",
   "source": "math.radians(90)",
   "metadata": {
    "cell_id": "a96302e8-14fe-462e-9649-ac926c638546",
    "tags": [],
    "deepnote_to_be_reexecuted": false,
    "source_hash": "46add991",
    "execution_start": 1647364821090,
    "execution_millis": 5,
    "deepnote_cell_type": "code",
    "deepnote_cell_height": 118.1875,
    "deepnote_output_heights": [
     21.1875
    ]
   },
   "outputs": [
    {
     "output_type": "execute_result",
     "execution_count": 43,
     "data": {
      "text/plain": "1.5707963267948966"
     },
     "metadata": {}
    }
   ],
   "execution_count": 43
  },
  {
   "cell_type": "code",
   "source": "math.sqrt(-25)",
   "metadata": {
    "cell_id": "dd014b9a-1d81-4a09-be40-57c7b11c5fce",
    "tags": [],
    "deepnote_to_be_reexecuted": false,
    "source_hash": "f30666cf",
    "execution_start": 1647364862990,
    "execution_millis": 10,
    "deepnote_cell_type": "code",
    "deepnote_cell_height": 144.1875
   },
   "outputs": [
    {
     "output_type": "error",
     "ename": "ValueError",
     "evalue": "math domain error",
     "traceback": [
      "\u001b[0;31m---------------------------------------------------------------------------\u001b[0m",
      "\u001b[0;31mValueError\u001b[0m                                Traceback (most recent call last)",
      "\u001b[0;32m<ipython-input-44-d80dea1ee982>\u001b[0m in \u001b[0;36m<module>\u001b[0;34m\u001b[0m\n\u001b[0;32m----> 1\u001b[0;31m \u001b[0mmath\u001b[0m\u001b[0;34m.\u001b[0m\u001b[0msqrt\u001b[0m\u001b[0;34m(\u001b[0m\u001b[0;34m-\u001b[0m\u001b[0;36m25\u001b[0m\u001b[0;34m)\u001b[0m\u001b[0;34m\u001b[0m\u001b[0;34m\u001b[0m\u001b[0m\n\u001b[0m",
      "\u001b[0;31mValueError\u001b[0m: math domain error"
     ]
    }
   ],
   "execution_count": 44
  },
  {
   "cell_type": "code",
   "source": "import cmath\n",
   "metadata": {
    "cell_id": "faad659f-64d9-4cc6-be8f-97fddfb20cf0",
    "tags": [],
    "deepnote_to_be_reexecuted": false,
    "source_hash": "3731edce",
    "execution_start": 1647364874916,
    "execution_millis": 3,
    "deepnote_cell_type": "code",
    "deepnote_cell_height": 99
   },
   "outputs": [],
   "execution_count": 45
  },
  {
   "cell_type": "code",
   "source": "dir(math)",
   "metadata": {
    "cell_id": "2096d28f-afff-402f-8a91-a6c8b7abfddd",
    "tags": [],
    "deepnote_to_be_reexecuted": false,
    "source_hash": "d793959",
    "execution_start": 1647364886349,
    "execution_millis": 1,
    "deepnote_cell_type": "code",
    "deepnote_cell_height": 708,
    "deepnote_output_heights": [
     611
    ]
   },
   "outputs": [
    {
     "output_type": "execute_result",
     "execution_count": 46,
     "data": {
      "text/plain": "['__doc__',\n '__file__',\n '__loader__',\n '__name__',\n '__package__',\n '__spec__',\n 'acos',\n 'acosh',\n 'asin',\n 'asinh',\n 'atan',\n 'atan2',\n 'atanh',\n 'ceil',\n 'copysign',\n 'cos',\n 'cosh',\n 'degrees',\n 'e',\n 'erf',\n 'erfc',\n 'exp',\n 'expm1',\n 'fabs',\n 'factorial',\n 'floor',\n 'fmod',\n 'frexp',\n 'fsum',\n 'gamma',\n 'gcd',\n 'hypot',\n 'inf',\n 'isclose',\n 'isfinite',\n 'isinf',\n 'isnan',\n 'ldexp',\n 'lgamma',\n 'log',\n 'log10',\n 'log1p',\n 'log2',\n 'modf',\n 'nan',\n 'pi',\n 'pow',\n 'radians',\n 'remainder',\n 'sin',\n 'sinh',\n 'sqrt',\n 'tan',\n 'tanh',\n 'tau',\n 'trunc']"
     },
     "metadata": {}
    }
   ],
   "execution_count": 46
  },
  {
   "cell_type": "code",
   "source": "cmath.sqrt(25)",
   "metadata": {
    "cell_id": "b5847510-dfe3-4d2c-a021-ed20d21ee953",
    "tags": [],
    "deepnote_to_be_reexecuted": false,
    "source_hash": "34b9bab6",
    "execution_start": 1647364931716,
    "execution_millis": 254,
    "deepnote_cell_type": "code",
    "deepnote_cell_height": 118.1875,
    "deepnote_output_heights": [
     21.1875
    ]
   },
   "outputs": [
    {
     "output_type": "execute_result",
     "execution_count": 47,
     "data": {
      "text/plain": "(5+0j)"
     },
     "metadata": {}
    }
   ],
   "execution_count": 47
  },
  {
   "cell_type": "code",
   "source": "cmath.sqrt(-25)",
   "metadata": {
    "cell_id": "39bc1b93-a7c2-4fc1-b9c2-201684d85dbd",
    "tags": [],
    "deepnote_to_be_reexecuted": false,
    "source_hash": "33b46581",
    "execution_start": 1647364945612,
    "execution_millis": 249,
    "deepnote_cell_type": "code",
    "deepnote_cell_height": 66
   },
   "outputs": [
    {
     "output_type": "execute_result",
     "execution_count": 48,
     "data": {
      "text/plain": "5j"
     },
     "metadata": {}
    }
   ],
   "execution_count": 48
  },
  {
   "cell_type": "code",
   "source": "",
   "metadata": {
    "cell_id": "09e247b4-e15e-4851-9c63-41975eecb03f",
    "tags": [],
    "deepnote_cell_type": "code"
   },
   "outputs": [],
   "execution_count": null
  },
  {
   "cell_type": "markdown",
   "source": "<a style='text-decoration:none;line-height:16px;display:flex;color:#5B5B62;padding:10px;justify-content:end;' href='https://deepnote.com?utm_source=created-in-deepnote-cell&projectId=30d18d2f-9eb2-4198-9d0b-4301362f37e2' target=\"_blank\">\n<img alt='Created in deepnote.com' style='display:inline;max-height:16px;margin:0px;margin-right:7.5px;' src='data:image/svg+xml;base64,PD94bWwgdmVyc2lvbj0iMS4wIiBlbmNvZGluZz0iVVRGLTgiPz4KPHN2ZyB3aWR0aD0iODBweCIgaGVpZ2h0PSI4MHB4IiB2aWV3Qm94PSIwIDAgODAgODAiIHZlcnNpb249IjEuMSIgeG1sbnM9Imh0dHA6Ly93d3cudzMub3JnLzIwMDAvc3ZnIiB4bWxuczp4bGluaz0iaHR0cDovL3d3dy53My5vcmcvMTk5OS94bGluayI+CiAgICA8IS0tIEdlbmVyYXRvcjogU2tldGNoIDU0LjEgKDc2NDkwKSAtIGh0dHBzOi8vc2tldGNoYXBwLmNvbSAtLT4KICAgIDx0aXRsZT5Hcm91cCAzPC90aXRsZT4KICAgIDxkZXNjPkNyZWF0ZWQgd2l0aCBTa2V0Y2guPC9kZXNjPgogICAgPGcgaWQ9IkxhbmRpbmciIHN0cm9rZT0ibm9uZSIgc3Ryb2tlLXdpZHRoPSIxIiBmaWxsPSJub25lIiBmaWxsLXJ1bGU9ImV2ZW5vZGQiPgogICAgICAgIDxnIGlkPSJBcnRib2FyZCIgdHJhbnNmb3JtPSJ0cmFuc2xhdGUoLTEyMzUuMDAwMDAwLCAtNzkuMDAwMDAwKSI+CiAgICAgICAgICAgIDxnIGlkPSJHcm91cC0zIiB0cmFuc2Zvcm09InRyYW5zbGF0ZSgxMjM1LjAwMDAwMCwgNzkuMDAwMDAwKSI+CiAgICAgICAgICAgICAgICA8cG9seWdvbiBpZD0iUGF0aC0yMCIgZmlsbD0iIzAyNjVCNCIgcG9pbnRzPSIyLjM3NjIzNzYyIDgwIDM4LjA0NzY2NjcgODAgNTcuODIxNzgyMiA3My44MDU3NTkyIDU3LjgyMTc4MjIgMzIuNzU5MjczOSAzOS4xNDAyMjc4IDMxLjY4MzE2ODMiPjwvcG9seWdvbj4KICAgICAgICAgICAgICAgIDxwYXRoIGQ9Ik0zNS4wMDc3MTgsODAgQzQyLjkwNjIwMDcsNzYuNDU0OTM1OCA0Ny41NjQ5MTY3LDcxLjU0MjI2NzEgNDguOTgzODY2LDY1LjI2MTk5MzkgQzUxLjExMjI4OTksNTUuODQxNTg0MiA0MS42NzcxNzk1LDQ5LjIxMjIyODQgMjUuNjIzOTg0Niw0OS4yMTIyMjg0IEMyNS40ODQ5Mjg5LDQ5LjEyNjg0NDggMjkuODI2MTI5Niw0My4yODM4MjQ4IDM4LjY0NzU4NjksMzEuNjgzMTY4MyBMNzIuODcxMjg3MSwzMi41NTQ0MjUgTDY1LjI4MDk3Myw2Ny42NzYzNDIxIEw1MS4xMTIyODk5LDc3LjM3NjE0NCBMMzUuMDA3NzE4LDgwIFoiIGlkPSJQYXRoLTIyIiBmaWxsPSIjMDAyODY4Ij48L3BhdGg+CiAgICAgICAgICAgICAgICA8cGF0aCBkPSJNMCwzNy43MzA0NDA1IEwyNy4xMTQ1MzcsMC4yNTcxMTE0MzYgQzYyLjM3MTUxMjMsLTEuOTkwNzE3MDEgODAsMTAuNTAwMzkyNyA4MCwzNy43MzA0NDA1IEM4MCw2NC45NjA0ODgyIDY0Ljc3NjUwMzgsNzkuMDUwMzQxNCAzNC4zMjk1MTEzLDgwIEM0Ny4wNTUzNDg5LDc3LjU2NzA4MDggNTMuNDE4MjY3Nyw3MC4zMTM2MTAzIDUzLjQxODI2NzcsNTguMjM5NTg4NSBDNTMuNDE4MjY3Nyw0MC4xMjg1NTU3IDM2LjMwMzk1NDQsMzcuNzMwNDQwNSAyNS4yMjc0MTcsMzcuNzMwNDQwNSBDMTcuODQzMDU4NiwzNy43MzA0NDA1IDkuNDMzOTE5NjYsMzcuNzMwNDQwNSAwLDM3LjczMDQ0MDUgWiIgaWQ9IlBhdGgtMTkiIGZpbGw9IiMzNzkzRUYiPjwvcGF0aD4KICAgICAgICAgICAgPC9nPgogICAgICAgIDwvZz4KICAgIDwvZz4KPC9zdmc+' > </img>\nCreated in <span style='font-weight:600;margin-left:4px;'>Deepnote</span></a>",
   "metadata": {
    "tags": [],
    "created_in_deepnote_cell": true,
    "deepnote_cell_type": "markdown"
   }
  }
 ],
 "nbformat": 4,
 "nbformat_minor": 2,
 "metadata": {
  "orig_nbformat": 2,
  "deepnote": {
   "is_reactive": false
  },
  "deepnote_notebook_id": "a00cfc2e-73cd-4930-9f8f-829fad98c325",
  "deepnote_execution_queue": []
 }
}