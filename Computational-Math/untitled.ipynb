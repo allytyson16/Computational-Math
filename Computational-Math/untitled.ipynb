{
 "cells": [
  {
   "cell_type": "code",
   "metadata": {
    "tags": [],
    "cell_id": "bf26c70c-de7d-4654-8b79-6f947d7766da",
    "deepnote_to_be_reexecuted": false,
    "source_hash": "726b145",
    "execution_start": 1648928394877,
    "execution_millis": 298,
    "deepnote_cell_type": "code",
    "deepnote_cell_height": 298.140625,
    "deepnote_output_heights": [
     21.1875
    ]
   },
   "source": "# Start writing code here...\n##to check for data type\na = 4\nb = 3.3\nc = \"this is python\"\nd = True\ntype(a)\ntype(b)\ntype(c)\ntype(d)\n",
   "execution_count": null,
   "outputs": [
    {
     "output_type": "execute_result",
     "execution_count": 12,
     "data": {
      "text/plain": "bool"
     },
     "metadata": {}
    }
   ]
  },
  {
   "cell_type": "code",
   "metadata": {
    "cell_id": "4d371c0f942542b3bf5da242caf266a5",
    "tags": [],
    "deepnote_to_be_reexecuted": false,
    "source_hash": "a5602163",
    "execution_start": 1648928329528,
    "execution_millis": 5,
    "deepnote_cell_type": "code",
    "deepnote_cell_height": 201.59375
   },
   "source": "#python as a calculator\n#checking BMI\nheight = 16.2\nweight = 50\nBMI = weight/ height **2\nprint(BMI)",
   "execution_count": null,
   "outputs": [
    {
     "name": "stdout",
     "text": "0.19051973784484072\n",
     "output_type": "stream"
    }
   ]
  },
  {
   "cell_type": "code",
   "metadata": {
    "cell_id": "d5ea0ad2aa904ccba73256cfa8299e25",
    "tags": [],
    "deepnote_to_be_reexecuted": false,
    "source_hash": "bdc68c55",
    "execution_start": 1649001813358,
    "execution_millis": 278,
    "deepnote_cell_type": "code",
    "deepnote_cell_height": 118.140625,
    "deepnote_output_heights": [
     21.1875
    ]
   },
   "source": "\"ab\" + \"cd\"",
   "execution_count": null,
   "outputs": [
    {
     "output_type": "execute_result",
     "execution_count": 14,
     "data": {
      "text/plain": "'abcd'"
     },
     "metadata": {}
    }
   ]
  },
  {
   "cell_type": "code",
   "metadata": {
    "cell_id": "5c07e11620254e6c8655aa6f48beb7fc",
    "tags": [],
    "deepnote_to_be_reexecuted": false,
    "source_hash": "1280a32f",
    "execution_start": 1649001836459,
    "execution_millis": 1,
    "deepnote_cell_type": "code",
    "deepnote_cell_height": 136.140625,
    "deepnote_output_heights": [
     21.1875
    ]
   },
   "source": "\"compound interest\" + \" compound interest\"\n",
   "execution_count": null,
   "outputs": [
    {
     "output_type": "execute_result",
     "execution_count": 17,
     "data": {
      "text/plain": "'compound interest compound interest'"
     },
     "metadata": {}
    }
   ]
  },
  {
   "cell_type": "code",
   "metadata": {
    "cell_id": "8a56e419c56b4cd6bbf6f68b7400aef1",
    "tags": [],
    "deepnote_to_be_reexecuted": false,
    "source_hash": "a923dcdf",
    "execution_start": 1649005479309,
    "execution_millis": 14,
    "deepnote_cell_type": "code",
    "deepnote_cell_height": 298.140625,
    "deepnote_output_heights": [
     21.1875
    ]
   },
   "source": "##listing\nareas = [\"hallway\", 11.25, \"kitchen\", 18.0, \"living room\", 20.0, \"bedroom\", 10.75, \"bathroom\", 9.50]\n\n\n#list in list\nareas = [[\"hallway\", 11.25],\n         [\"kitchen\", 18.0],\n         [\"living room\", 20.0],\n         [\"bedroom\", 10.75],\n         [\"bathroom\", 9.50]]\nareas[-1][1]",
   "execution_count": null,
   "outputs": [
    {
     "output_type": "execute_result",
     "execution_count": 6,
     "data": {
      "text/plain": "9.5"
     },
     "metadata": {}
    }
   ]
  },
  {
   "cell_type": "code",
   "metadata": {
    "cell_id": "6cd013a0fca94a888ad4782c4e044e8d",
    "tags": [],
    "deepnote_to_be_reexecuted": false,
    "source_hash": "7a3791fd",
    "execution_start": 1649002135748,
    "execution_millis": 5,
    "deepnote_cell_type": "code",
    "deepnote_cell_height": 172.140625,
    "deepnote_output_heights": [
     21.1875
    ]
   },
   "source": "#indexing starts from 0\n##slicing\nareas[1:3]   #[start(inclusice): end(exclisive)]\n",
   "execution_count": null,
   "outputs": [
    {
     "output_type": "execute_result",
     "execution_count": 21,
     "data": {
      "text/plain": "[['kitchen', 18.0], ['living room', 20.0]]"
     },
     "metadata": {}
    }
   ]
  },
  {
   "cell_type": "code",
   "metadata": {
    "cell_id": "bbb8e691b62b4407a6ddeecd45b100d3",
    "tags": [],
    "deepnote_to_be_reexecuted": false,
    "source_hash": "7aff9e1c",
    "execution_start": 1649005128010,
    "execution_millis": 13,
    "deepnote_cell_type": "code",
    "deepnote_cell_height": 136.140625,
    "deepnote_output_heights": [
     21.1875
    ]
   },
   "source": "#areas[:3]\nareas[1][1]",
   "execution_count": null,
   "outputs": [
    {
     "output_type": "execute_result",
     "execution_count": 5,
     "data": {
      "text/plain": "18.0"
     },
     "metadata": {}
    }
   ]
  },
  {
   "cell_type": "code",
   "metadata": {
    "cell_id": "b44a05ef8e6145229df51fd447367dbb",
    "tags": [],
    "deepnote_to_be_reexecuted": false,
    "source_hash": "406a90bc",
    "execution_start": 1649002212485,
    "execution_millis": 410,
    "deepnote_cell_type": "code",
    "deepnote_cell_height": 118.140625,
    "deepnote_output_heights": [
     21.1875
    ]
   },
   "source": "areas[-1]",
   "execution_count": null,
   "outputs": [
    {
     "output_type": "execute_result",
     "execution_count": 23,
     "data": {
      "text/plain": "['bathroom', 9.5]"
     },
     "metadata": {}
    }
   ]
  },
  {
   "cell_type": "code",
   "metadata": {
    "cell_id": "2848efe4b9ab4e9c86411e73c7b800cb",
    "tags": [],
    "deepnote_to_be_reexecuted": false,
    "source_hash": "c2758f07",
    "execution_start": 1649002256836,
    "execution_millis": 313,
    "deepnote_cell_type": "code",
    "deepnote_cell_height": 136.140625,
    "deepnote_output_heights": [
     21.1875
    ]
   },
   "source": "#output kitchen\nareas[1]",
   "execution_count": null,
   "outputs": [
    {
     "output_type": "execute_result",
     "execution_count": 24,
     "data": {
      "text/plain": "['kitchen', 18.0]"
     },
     "metadata": {}
    }
   ]
  },
  {
   "cell_type": "code",
   "metadata": {
    "cell_id": "a97aaabdd9794653a0276b01d7acfaf1",
    "tags": [],
    "deepnote_to_be_reexecuted": false,
    "source_hash": "c103b115",
    "execution_start": 1649002279891,
    "execution_millis": 3,
    "deepnote_cell_type": "code",
    "deepnote_cell_height": 136.140625,
    "deepnote_output_heights": [
     21.1875
    ]
   },
   "source": "##output kitchen another way\nareas[-4]",
   "execution_count": null,
   "outputs": [
    {
     "output_type": "execute_result",
     "execution_count": 25,
     "data": {
      "text/plain": "['kitchen', 18.0]"
     },
     "metadata": {}
    }
   ]
  },
  {
   "cell_type": "code",
   "metadata": {
    "cell_id": "dc12ebf04cd24fcb937720aa5cb2aa71",
    "tags": [],
    "deepnote_to_be_reexecuted": false,
    "source_hash": "987a53c0",
    "execution_start": 1649005017780,
    "execution_millis": 29,
    "deepnote_cell_type": "code",
    "deepnote_cell_height": 208.140625,
    "deepnote_output_heights": [
     21.1875
    ]
   },
   "source": "##subsetting lists\nx = [[\"a\", \"b\", \"c\"],\n     [\"d\", \"e\", \"f\"],\n     [\"g\", \"h\", \"i\"]]\nx[2][0]\n",
   "execution_count": null,
   "outputs": [
    {
     "output_type": "execute_result",
     "execution_count": 1,
     "data": {
      "text/plain": "'g'"
     },
     "metadata": {}
    }
   ]
  },
  {
   "cell_type": "code",
   "metadata": {
    "cell_id": "e5f54724725b43c28b2370a2861ff74d",
    "tags": [],
    "deepnote_to_be_reexecuted": false,
    "source_hash": "206294e",
    "execution_start": 1649006266115,
    "execution_millis": 352,
    "deepnote_cell_type": "code",
    "deepnote_cell_height": 491.390625,
    "deepnote_output_heights": [
     232.4375
    ]
   },
   "source": "##list manipulation\nfam = [\"Mum\", 12.3, \"Dad\", 23.4, \"Ed\", 23.5, \"Gid\", 22.3, \"Clif\", 22.1, \"Kuu\", 18.2]\n\n\n#changing element\nfam[8] = \"Cliff\"\nfam[10] = \"Kumah\"\nfam\n\n",
   "execution_count": null,
   "outputs": [
    {
     "output_type": "execute_result",
     "execution_count": 16,
     "data": {
      "text/plain": "['Mum',\n 12.3,\n 'Dad',\n 23.4,\n 'Ed',\n 23.5,\n 'Gid',\n 22.3,\n 'Cliff',\n 22.1,\n 'Kumah',\n 18.2]"
     },
     "metadata": {}
    }
   ]
  },
  {
   "cell_type": "code",
   "metadata": {
    "cell_id": "88fcceb03592491fa9c1b52250e7c36f",
    "tags": [],
    "deepnote_to_be_reexecuted": false,
    "source_hash": "d2cb8311",
    "execution_start": 1649006407421,
    "execution_millis": 3,
    "deepnote_cell_type": "code",
    "deepnote_cell_height": 442.21875,
    "deepnote_output_heights": [
     309.265625
    ]
   },
   "source": "#adding element\nme_fam = fam + [\"Me\", 19.2]\nme_fam",
   "execution_count": null,
   "outputs": [
    {
     "output_type": "execute_result",
     "execution_count": 20,
     "data": {
      "text/plain": "['Mum',\n 12.3,\n 'Dad',\n 23.4,\n 'Ed',\n 23.5,\n 'Gid',\n 22.3,\n 'Cliff',\n 22.1,\n 'Kumah',\n 18.2,\n 'Me',\n 19.2,\n 'Me',\n 19.2]"
     },
     "metadata": {}
    }
   ]
  },
  {
   "cell_type": "code",
   "metadata": {
    "cell_id": "4eb0e028dc394a2d9401a749810d399c",
    "tags": [],
    "deepnote_to_be_reexecuted": false,
    "source_hash": "178c105e",
    "execution_start": 1649006550346,
    "execution_millis": 14,
    "deepnote_cell_type": "code",
    "deepnote_cell_height": 154.140625,
    "deepnote_output_heights": [
     21.1875
    ]
   },
   "source": "##removing/ deleting element from list\ndel(fam[2:4])\nfam",
   "execution_count": null,
   "outputs": [
    {
     "output_type": "execute_result",
     "execution_count": 24,
     "data": {
      "text/plain": "['Mum', 12.3, 'Gid', 22.3, 'Cliff', 22.1, 'Kumah', 18.2, 'Me', 19.2]"
     },
     "metadata": {}
    }
   ]
  },
  {
   "cell_type": "code",
   "source": "###functions\n",
   "metadata": {
    "cell_id": "c65142460e154c0cabe7b31768a82da6",
    "tags": [],
    "deepnote_cell_type": "code",
    "deepnote_cell_height": 65.953125
   },
   "outputs": [],
   "execution_count": null
  },
  {
   "cell_type": "markdown",
   "source": "<a style='text-decoration:none;line-height:16px;display:flex;color:#5B5B62;padding:10px;justify-content:end;' href='https://deepnote.com?utm_source=created-in-deepnote-cell&projectId=30d18d2f-9eb2-4198-9d0b-4301362f37e2' target=\"_blank\">\n<img alt='Created in deepnote.com' style='display:inline;max-height:16px;margin:0px;margin-right:7.5px;' src='data:image/svg+xml;base64,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' > </img>\nCreated in <span style='font-weight:600;margin-left:4px;'>Deepnote</span></a>",
   "metadata": {
    "tags": [],
    "created_in_deepnote_cell": true,
    "deepnote_cell_type": "markdown"
   }
  }
 ],
 "nbformat": 4,
 "nbformat_minor": 2,
 "metadata": {
  "orig_nbformat": 2,
  "deepnote": {
   "is_reactive": false
  },
  "deepnote_notebook_id": "9f4561e0-ac41-4211-bc0b-08f7c4300f05",
  "deepnote_execution_queue": []
 }
}