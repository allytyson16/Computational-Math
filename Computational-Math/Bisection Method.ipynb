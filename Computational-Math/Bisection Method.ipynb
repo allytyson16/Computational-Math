{
 "cells": [
  {
   "cell_type": "code",
   "metadata": {
    "tags": [],
    "cell_id": "5f9edd7b-c3d6-457e-aef2-d7f09ae20d9d",
    "deepnote_cell_type": "code",
    "deepnote_cell_height": 66
   },
   "source": "# Start writing code here...",
   "execution_count": null,
   "outputs": []
  },
  {
   "cell_type": "code",
   "metadata": {
    "cell_id": "0b1173eeb2154b41a44f234fbbb08824",
    "tags": [],
    "deepnote_cell_type": "code",
    "deepnote_cell_height": 390
   },
   "source": "##Algorithm for bisection method\nfrom numpy import*\na = int(input(\"Enter the first limit: \"))\nb = int(input(\"Enter the second limit: \"))\np = (a + b)/2\n\ndef f(x):\n    y = x*x - 4\n    return y\nif f(a)*f(b) < 0 :\n    while abs(f(p))>0.00002:\n        if f(a)*f(p)>0:\n            a = p\n        else:\n            b = p\n        p = (a + b)/2\n    print(\"The root is \", p)\nelse:\n    print(\"The limits are not valid.\")",
   "execution_count": null,
   "outputs": []
  },
  {
   "cell_type": "code",
   "metadata": {
    "cell_id": "70b46c58c39f448dbf812cae08431be8",
    "tags": [],
    "deepnote_to_be_reexecuted": false,
    "source_hash": "ab95340e",
    "execution_start": 1648649298830,
    "execution_millis": 2,
    "deepnote_cell_type": "code",
    "deepnote_cell_height": 423
   },
   "source": "##a = int(input(\"Enter first number: \"))\n##b = int(input(\"Enter second number: \"))\n\ndef bisection(f, x, tol):\n    a, b = x[0], x[1]\n    if f(a)*f( b) >0:\n        print(\"f must change sign.\")\n        return\n    while abs(b-a) > tol:\n        m = (a+b)/2\n        if f(m) < tol:\n            return m\n        if f(a)*f(m)<0:\n            b = m\n        else:\n            a = m\n    return(a +b)/2\n        \n    \n",
   "execution_count": null,
   "outputs": []
  },
  {
   "cell_type": "code",
   "metadata": {
    "cell_id": "d5c1f94715f246528e7e4bb45dc27312",
    "tags": [],
    "deepnote_to_be_reexecuted": false,
    "source_hash": "93e4524a",
    "execution_start": 1648649571084,
    "execution_millis": 78,
    "deepnote_cell_type": "code",
    "deepnote_cell_height": 144.1875
   },
   "source": "bisection(tol = 0.1)",
   "execution_count": null,
   "outputs": [
    {
     "output_type": "error",
     "ename": "TypeError",
     "evalue": "bisection() missing 2 required positional arguments: 'f' and 'x'",
     "traceback": [
      "\u001b[0;31m---------------------------------------------------------------------------\u001b[0m",
      "\u001b[0;31mTypeError\u001b[0m                                 Traceback (most recent call last)",
      "\u001b[0;32m<ipython-input-18-0b2bda513d6a>\u001b[0m in \u001b[0;36m<module>\u001b[0;34m\u001b[0m\n\u001b[0;32m----> 1\u001b[0;31m \u001b[0mbisection\u001b[0m\u001b[0;34m(\u001b[0m\u001b[0mtol\u001b[0m \u001b[0;34m=\u001b[0m \u001b[0;36m0.1\u001b[0m\u001b[0;34m)\u001b[0m\u001b[0;34m\u001b[0m\u001b[0;34m\u001b[0m\u001b[0m\n\u001b[0m",
      "\u001b[0;31mTypeError\u001b[0m: bisection() missing 2 required positional arguments: 'f' and 'x'"
     ]
    }
   ]
  },
  {
   "cell_type": "code",
   "metadata": {
    "cell_id": "e87494c521a54c59ad6e8f6babfeb5c3",
    "tags": [],
    "deepnote_to_be_reexecuted": false,
    "source_hash": "c076b03f",
    "execution_start": 1648650724432,
    "execution_millis": 0,
    "deepnote_cell_type": "code",
    "deepnote_cell_height": 135
   },
   "source": "from math import cos as cos\nfrom math import sqrt as sqrt\n\n",
   "execution_count": null,
   "outputs": []
  },
  {
   "cell_type": "code",
   "metadata": {
    "cell_id": "7c2e9f682473484da56d7d7619fa24bc",
    "tags": [],
    "deepnote_to_be_reexecuted": false,
    "source_hash": "71620873",
    "execution_start": 1648651388881,
    "execution_millis": 0,
    "deepnote_cell_type": "code",
    "deepnote_cell_height": 405
   },
   "source": "f = lambda x: sqrt(x) - cos(x)\ndef bisection(f ,x, tol):\n    a, b = x[0], x[1]\n    if f(a)*f( b) >0:\n        print(\"f must change sign in rhe given interval.\")\n        return\n    while abs(b-a) >= tol:\n        m = (a+b)/2\n        if f(m) < tol:\n            return m\n        if f(a)*f(m)<0:\n            b = m\n        else:\n            a = m\n    return(a +b)/2\n\n\n    \n    ",
   "execution_count": null,
   "outputs": []
  },
  {
   "cell_type": "code",
   "metadata": {
    "cell_id": "32791d97127c402a861b7dbb345150da",
    "tags": [],
    "deepnote_to_be_reexecuted": false,
    "source_hash": "8cdb738a",
    "execution_start": 1648651392016,
    "execution_millis": 43,
    "deepnote_cell_type": "code",
    "deepnote_cell_height": 118.1875,
    "deepnote_output_heights": [
     21.1875
    ]
   },
   "source": "bisection(f, [0,1],1/10)",
   "execution_count": null,
   "outputs": [
    {
     "output_type": "execute_result",
     "execution_count": 53,
     "data": {
      "text/plain": "0.5"
     },
     "metadata": {}
    }
   ]
  },
  {
   "cell_type": "code",
   "metadata": {
    "cell_id": "5438403b4af349baaeb14b7407ac85fd",
    "tags": [],
    "deepnote_to_be_reexecuted": false,
    "source_hash": "49b5234b",
    "execution_start": 1648735617552,
    "execution_millis": 0,
    "deepnote_cell_type": "code",
    "deepnote_cell_height": 333,
    "deepnote_output_heights": [
     78.78125
    ]
   },
   "source": "f = lambda x: x - 2\ndef bisection(f ,x, tol):\n    a, b = x[0], x[1]\n    if f(a)*f( b) >0:\n        print(\"f must change sign in rhe given interval.\")\n        return\n    while abs(b-a) >= tol:\n        m = (a+b)/2\n        if f(m) < tol:\n            return m\n        if f(a)*f(m)<0:\n            b = m\n        else:\n            a = m\n    return(a +b)/2",
   "execution_count": 8,
   "outputs": []
  },
  {
   "cell_type": "markdown",
   "source": "<a style='text-decoration:none;line-height:16px;display:flex;color:#5B5B62;padding:10px;justify-content:end;' href='https://deepnote.com?utm_source=created-in-deepnote-cell&projectId=30d18d2f-9eb2-4198-9d0b-4301362f37e2' target=\"_blank\">\n<img alt='Created in deepnote.com' style='display:inline;max-height:16px;margin:0px;margin-right:7.5px;' src='data:image/svg+xml;base64,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' > </img>\nCreated in <span style='font-weight:600;margin-left:4px;'>Deepnote</span></a>",
   "metadata": {
    "tags": [],
    "created_in_deepnote_cell": true,
    "deepnote_cell_type": "markdown"
   }
  }
 ],
 "nbformat": 4,
 "nbformat_minor": 2,
 "metadata": {
  "orig_nbformat": 2,
  "deepnote": {
   "is_reactive": false
  },
  "deepnote_notebook_id": "b3663b23-a41d-435f-93ce-fa89ce9eea29",
  "deepnote_execution_queue": []
 }
}